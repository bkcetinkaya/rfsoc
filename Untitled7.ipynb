{
 "cells": [
  {
   "cell_type": "code",
   "execution_count": 1,
   "id": "afbcead5-5cf8-4ce9-a649-aabbe43093e3",
   "metadata": {},
   "outputs": [
    {
     "data": {
      "application/javascript": [
       "\n",
       "try {\n",
       "require(['notebook/js/codecell'], function(codecell) {\n",
       "  codecell.CodeCell.options_default.highlight_modes[\n",
       "      'magic_text/x-csrc'] = {'reg':[/^%%microblaze/]};\n",
       "  Jupyter.notebook.events.one('kernel_ready.Kernel', function(){\n",
       "      Jupyter.notebook.get_cells().map(function(cell){\n",
       "          if (cell.cell_type == 'code'){ cell.auto_highlight(); } }) ;\n",
       "  });\n",
       "});\n",
       "} catch (e) {};\n"
      ]
     },
     "metadata": {},
     "output_type": "display_data"
    },
    {
     "data": {
      "application/javascript": [
       "\n",
       "try {\n",
       "require(['notebook/js/codecell'], function(codecell) {\n",
       "  codecell.CodeCell.options_default.highlight_modes[\n",
       "      'magic_text/x-csrc'] = {'reg':[/^%%pybind11/]};\n",
       "  Jupyter.notebook.events.one('kernel_ready.Kernel', function(){\n",
       "      Jupyter.notebook.get_cells().map(function(cell){\n",
       "          if (cell.cell_type == 'code'){ cell.auto_highlight(); } }) ;\n",
       "  });\n",
       "});\n",
       "} catch (e) {};\n"
      ]
     },
     "metadata": {},
     "output_type": "display_data"
    }
   ],
   "source": [
    "from pynq.overlays.base import BaseOverlay\n",
    "\n",
    "base = BaseOverlay('base.bit')\n",
    "\n",
    "base.init_rf_clks()"
   ]
  },
  {
   "cell_type": "code",
   "execution_count": 36,
   "id": "3f637b80-0201-4fcf-8bb3-c2234b41bc4b",
   "metadata": {},
   "outputs": [],
   "source": [
    "def set_transmitter_channel(channel, enable, gain, frequency, phaseOff):\n",
    "    channel.control.enable = enable\n",
    "    channel.control.gain = gain\n",
    "    channel.dac_block.MixerSettings['Freq'] = frequency\n",
    "    channel.dac_block.MixerSettings['PhaseOffset'] = phaseOff\n",
    "\n",
    "set_transmitter_channel(base.radio.transmitter.channel[0], True, 1, 433, 0)\n",
    "set_transmitter_channel(base.radio.transmitter.channel[1], True, 1, 433, 0)"
   ]
  },
  {
   "cell_type": "code",
   "execution_count": 37,
   "id": "944614ab-a857-46e2-9341-5c2d201830ad",
   "metadata": {},
   "outputs": [],
   "source": [
    "number_samples = 1229\n",
    "sample_frequency = 2458e6\n",
    "cdata = []\n",
    "for i in range(0, len(base.radio.receiver.channel)):\n",
    "    cdata.append(base.radio.receiver.channel[i].transfer(number_samples))"
   ]
  },
  {
   "cell_type": "code",
   "execution_count": 38,
   "id": "d923d52a-4d69-4c57-ae43-33a4b9dc75a9",
   "metadata": {},
   "outputs": [
    {
     "data": {
      "application/vnd.jupyter.widget-view+json": {
       "model_id": "99b82f2da92548c59de4501e351cb674",
       "version_major": 2,
       "version_minor": 0
      },
      "text/plain": [
       "VBox(children=(FigureWidget({\n",
       "    'data': [{'name': 'Real',\n",
       "              'type': 'scatter',\n",
       "              'ui…"
      ]
     },
     "metadata": {},
     "output_type": "display_data"
    }
   ],
   "source": [
    "import plotly.graph_objs as go\n",
    "import numpy as np\n",
    "import ipywidgets as ipw\n",
    "\n",
    "def plot_complex_time(data, n=number_samples, fs=sample_frequency, \n",
    "                      title='Complex Time Plot'):\n",
    "    plt_re_temp = (go.Scatter(x = np.arange(0, n/fs, 1/fs),\n",
    "                              y = np.real(data), name='Real'))\n",
    "    plt_im_temp = (go.Scatter(x = np.arange(0, n/fs, 1/fs),\n",
    "                              y = np.imag(data), name='Imag'))\n",
    "    return go.FigureWidget(data = [plt_re_temp, plt_im_temp],\n",
    "                           layout = {'title': title, \n",
    "                                     'xaxis': {\n",
    "                                         'title': 'Seconds (s)',\n",
    "                                         'autorange' : True},\n",
    "                                     'yaxis': {\n",
    "                                         'title': 'Amplitude (V)'}})\n",
    "\n",
    "tfigs = []\n",
    "for i in range(2, len(base.radio.receiver.channel)):\n",
    "    tfigs.append(plot_complex_time(\n",
    "            data=cdata[i], \n",
    "            title=''.join(['Time Domain Plot of ADC Channel ', str(i)])))\n",
    "\n",
    "ipw.VBox(tfigs)"
   ]
  },
  {
   "cell_type": "code",
   "execution_count": 39,
   "id": "e8030958-3b2c-420d-8dc3-3fe64c0f1e0c",
   "metadata": {},
   "outputs": [],
   "source": [
    "window = np.array(np.blackman(number_samples)[:])"
   ]
  },
  {
   "cell_type": "code",
   "execution_count": 40,
   "id": "24a662a7-1f27-4c68-9f57-7154e6b8a7d8",
   "metadata": {},
   "outputs": [
    {
     "data": {
      "application/vnd.jupyter.widget-view+json": {
       "model_id": "9581b338443a44f2b8cb6afe78c8a410",
       "version_major": 2,
       "version_minor": 0
      },
      "text/plain": [
       "VBox(children=(FigureWidget({\n",
       "    'data': [{'name': 'Real',\n",
       "              'type': 'scatter',\n",
       "              'ui…"
      ]
     },
     "metadata": {},
     "output_type": "display_data"
    }
   ],
   "source": [
    "wdata = []\n",
    "wfigs = []\n",
    "\n",
    "for i in range(2, len(base.radio.receiver.channel)):\n",
    "    wdata.append(cdata[i]*window)\n",
    "    wfigs.append(plot_complex_time(\n",
    "            data=wdata[i-2], \n",
    "            title=''.join(['Windowed Plot of ADC Channel ', str(i)])))\n",
    "\n",
    "ipw.VBox(wfigs)"
   ]
  },
  {
   "cell_type": "code",
   "execution_count": 32,
   "id": "faa318af-70d5-4d84-b076-a9f8cebfb53a",
   "metadata": {},
   "outputs": [],
   "source": [
    "fdata = []\n",
    "for i in range(0, len(wdata)):\n",
    "    fdata.append(np.fft.fftshift(np.fft.fft(wdata[i])))"
   ]
  },
  {
   "cell_type": "code",
   "execution_count": 33,
   "id": "b7411da3-8c08-4ee2-ba19-dc15b6616a56",
   "metadata": {},
   "outputs": [
    {
     "data": {
      "application/vnd.jupyter.widget-view+json": {
       "model_id": "c77f5f02828541529545545603345308",
       "version_major": 2,
       "version_minor": 0
      },
      "text/plain": [
       "VBox(children=(FigureWidget({\n",
       "    'data': [{'name': 'Spectrum',\n",
       "              'type': 'scatter',\n",
       "             …"
      ]
     },
     "metadata": {},
     "output_type": "display_data"
    }
   ],
   "source": [
    "def plot_complex_spectrum(data, N=number_samples, fs=sample_frequency, \n",
    "                          title='Complex Spectrum Plot', units='dBW', fc=0):\n",
    "    plt_temp = (go.Scatter(x = np.arange(-fs/2, fs/2, fs/N) + fc,\n",
    "                           y = data, name='Spectrum'))\n",
    "    return go.FigureWidget(data = plt_temp,\n",
    "                           layout = {'title': title, \n",
    "                                     'xaxis': {\n",
    "                                         'title': 'Frequency (Hz)',\n",
    "                                         'autorange': True},\n",
    "                                     'yaxis': {\n",
    "                                         'title': units}})\n",
    "\n",
    "magfigs = []\n",
    "for i in range(0, len(fdata)):\n",
    "    magfigs.append(plot_complex_spectrum(\n",
    "            data=abs(fdata[i]),\n",
    "            title=''.join(['Frequency Magnitude Plot of ADC Channel ', str(i+2)]),\n",
    "            units='|Y(f)|',\n",
    "            fc=round(abs(base.radio.receiver.channel[i].adc_block.MixerSettings['Freq']))*1e6))\n",
    "\n",
    "ipw.VBox(magfigs)"
   ]
  },
  {
   "cell_type": "code",
   "execution_count": 34,
   "id": "4607b00a-06e6-422f-96b4-2b2c5aac0f14",
   "metadata": {},
   "outputs": [],
   "source": [
    "def freq_to_psd(data, N=number_samples, fs=sample_frequency, \n",
    "                window=np.array(np.ones(number_samples)[:])):\n",
    "    psd = (abs(data)**2)/(fs*np.sum(window**2))\n",
    "    return 10*np.where(psd > 0, np.log10(psd), 0)\n",
    "\n",
    "psd = []\n",
    "for i in range(0, len(fdata)):\n",
    "    psd.append(freq_to_psd(data=fdata[i], window=window))"
   ]
  },
  {
   "cell_type": "code",
   "execution_count": 35,
   "id": "705e4254-436b-4869-8454-0d74bdd5f0d2",
   "metadata": {},
   "outputs": [
    {
     "data": {
      "application/vnd.jupyter.widget-view+json": {
       "model_id": "660dd7d94b174efa8740142694aa821c",
       "version_major": 2,
       "version_minor": 0
      },
      "text/plain": [
       "VBox(children=(FigureWidget({\n",
       "    'data': [{'name': 'Spectrum',\n",
       "              'type': 'scatter',\n",
       "             …"
      ]
     },
     "metadata": {},
     "output_type": "display_data"
    }
   ],
   "source": [
    "psdfigs = []\n",
    "for i in range(0, len(psd)):\n",
    "    psdfigs.append(plot_complex_spectrum(\n",
    "            data=psd[i],\n",
    "            title=''.join(['Power Spectral Density Plot of ADC Channel ',\n",
    "                           str(i+2)]),\n",
    "            units='Amplitude (dB)',\n",
    "            fc=round(abs(base.radio.receiver.channel[\n",
    "                        i].adc_block.MixerSettings['Freq']))*1e6))\n",
    "\n",
    "ipw.VBox(psdfigs)"
   ]
  },
  {
   "cell_type": "code",
   "execution_count": null,
   "id": "e3c5fb09-6b24-4c73-b791-55acfcc1ae94",
   "metadata": {},
   "outputs": [],
   "source": []
  }
 ],
 "metadata": {
  "kernelspec": {
   "display_name": "Python 3 (ipykernel)",
   "language": "python",
   "name": "python3"
  },
  "language_info": {
   "codemirror_mode": {
    "name": "ipython",
    "version": 3
   },
   "file_extension": ".py",
   "mimetype": "text/x-python",
   "name": "python",
   "nbconvert_exporter": "python",
   "pygments_lexer": "ipython3",
   "version": "3.10.4"
  }
 },
 "nbformat": 4,
 "nbformat_minor": 5
}
