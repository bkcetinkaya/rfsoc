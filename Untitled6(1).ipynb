{
 "cells": [
  {
   "cell_type": "code",
   "execution_count": 1,
   "id": "4c3035cb-7947-4d44-afe4-a9c6d36470b3",
   "metadata": {},
   "outputs": [
    {
     "data": {
      "application/javascript": [
       "\n",
       "try {\n",
       "require(['notebook/js/codecell'], function(codecell) {\n",
       "  codecell.CodeCell.options_default.highlight_modes[\n",
       "      'magic_text/x-csrc'] = {'reg':[/^%%microblaze/]};\n",
       "  Jupyter.notebook.events.one('kernel_ready.Kernel', function(){\n",
       "      Jupyter.notebook.get_cells().map(function(cell){\n",
       "          if (cell.cell_type == 'code'){ cell.auto_highlight(); } }) ;\n",
       "  });\n",
       "});\n",
       "} catch (e) {};\n"
      ]
     },
     "metadata": {},
     "output_type": "display_data"
    },
    {
     "data": {
      "application/javascript": [
       "\n",
       "try {\n",
       "require(['notebook/js/codecell'], function(codecell) {\n",
       "  codecell.CodeCell.options_default.highlight_modes[\n",
       "      'magic_text/x-csrc'] = {'reg':[/^%%pybind11/]};\n",
       "  Jupyter.notebook.events.one('kernel_ready.Kernel', function(){\n",
       "      Jupyter.notebook.get_cells().map(function(cell){\n",
       "          if (cell.cell_type == 'code'){ cell.auto_highlight(); } }) ;\n",
       "  });\n",
       "});\n",
       "} catch (e) {};\n"
      ]
     },
     "metadata": {},
     "output_type": "display_data"
    }
   ],
   "source": [
    "from pynq.overlays.base import BaseOverlay\n",
    "\n",
    "base = BaseOverlay('base.bit')\n",
    "\n",
    "base.init_rf_clks()"
   ]
  },
  {
   "cell_type": "code",
   "execution_count": 19,
   "id": "f5cec730-c375-41ba-8af1-232dce7251a6",
   "metadata": {},
   "outputs": [],
   "source": [
    "base.radio.transmitter.channel[0].dac_block.MixerSettings['Freq'] = 433 # MHz \n",
    "base.radio.transmitter.channel[1].dac_block.MixerSettings['Freq'] = 433 # MHz\n",
    "\n",
    "for i in range(0, len(base.radio.transmitter.channel)):\n",
    "    base.radio.transmitter.channel[i].control.gain = 1\n",
    "    base.radio.transmitter.channel[i].control.enable = True"
   ]
  },
  {
   "cell_type": "code",
   "execution_count": 6,
   "id": "dd7c1173-4170-4269-868e-31e7dd992bd9",
   "metadata": {},
   "outputs": [],
   "source": [
    "import xrfdc\n",
    "base.radio.receiver.channel[3].adc_block.MixerSettings['Freq'] = 433\n",
    "base.radio.receiver.channel[3].adc_block.UpdateEvent(xrfdc.EVENT_MIXER)\n",
    "base.radio.receiver.channel[3].adc_block.MixerSettings\n",
    "base.radio.receiver.channel[3].adc_block.DecimationFactor = 2"
   ]
  },
  {
   "cell_type": "code",
   "execution_count": 21,
   "id": "14fd9036-ef3e-4202-ab01-6683ad1291d1",
   "metadata": {},
   "outputs": [],
   "source": [
    "number_samples = 128\n",
    "cdata = []\n",
    "for i in range(0, len(base.radio.receiver.channel)):\n",
    "    cdata.append(base.radio.receiver.channel[i].transfer(number_samples))"
   ]
  },
  {
   "cell_type": "code",
   "execution_count": 22,
   "id": "3de07b0d-88d1-468f-bdbb-4bf4260d7f85",
   "metadata": {},
   "outputs": [],
   "source": [
    "myarray = []\n",
    "myarray.append(cdata[3])\n"
   ]
  },
  {
   "cell_type": "code",
   "execution_count": 23,
   "id": "2504bf45-0892-4d6c-ad6f-5446743e5b31",
   "metadata": {},
   "outputs": [],
   "source": [
    "import plotly.graph_objs as go\n",
    "from plotly.subplots import make_subplots\n",
    "import numpy as np\n",
    "import ipywidgets as ipw"
   ]
  },
  {
   "cell_type": "code",
   "execution_count": 24,
   "id": "13c685f3-c861-451f-afd3-439f10f7dd54",
   "metadata": {},
   "outputs": [
    {
     "data": {
      "application/vnd.jupyter.widget-view+json": {
       "model_id": "d3ecd0b021584b46b2553daa88f84563",
       "version_major": 2,
       "version_minor": 0
      },
      "text/plain": [
       "VBox(children=(FigureWidget({\n",
       "    'data': [{'name': 'Real',\n",
       "              'type': 'scatter',\n",
       "              'ui…"
      ]
     },
     "metadata": {},
     "output_type": "display_data"
    }
   ],
   "source": [
    "sample_frequency = 1000e6\n",
    "figs = []\n",
    "\n",
    "for i in range(0, len(base.radio.receiver.channel)):\n",
    "    plt_re_temp = (go.Scatter(\n",
    "            x = np.arange(0, number_samples/sample_frequency, \n",
    "                          1/sample_frequency),\n",
    "            y = np.real(cdata[i]), name='Real'))\n",
    "    plt_im_temp = (go.Scatter(\n",
    "            x = np.arange(0, number_samples/sample_frequency, \n",
    "                          1/sample_frequency),\n",
    "            y = np.imag(cdata[i]), name='Imag'))\n",
    "    figs.append(go.FigureWidget(data = [plt_re_temp, plt_im_temp],\n",
    "            layout = {'title': ''.join(['Time Domain Plot of ADC Channel ', \n",
    "                                         str(i)]), \n",
    "                      'xaxis': {'title' : 'Seconds (s)',\n",
    "                                'autorange' : True},\n",
    "                      'yaxis' : {'title' : 'Amplitude (V)'}}))\n",
    "    \n",
    "ipw.VBox(figs)"
   ]
  },
  {
   "cell_type": "code",
   "execution_count": 20,
   "id": "280c9e26-632b-4dcc-a070-15a31c25031e",
   "metadata": {},
   "outputs": [
    {
     "data": {
      "application/vnd.jupyter.widget-view+json": {
       "model_id": "0ad242ef5ddf47ae930b63d2471c81be",
       "version_major": 2,
       "version_minor": 0
      },
      "text/plain": [
       "VBox(children=(FigureWidget({\n",
       "    'data': [{'name': 'Real',\n",
       "              'type': 'scatter',\n",
       "              'ui…"
      ]
     },
     "metadata": {},
     "output_type": "display_data"
    }
   ],
   "source": [
    "myfigs = []\n",
    "\n",
    "for i in range(0, len(myarray)):\n",
    "    myplt_re_temp = (go.Scatter(\n",
    "            x = np.arange(0, number_samples/sample_frequency, \n",
    "                          1/sample_frequency),\n",
    "            y = np.real(myarray[i]), name='Real'))\n",
    "    myplt_im_temp = (go.Scatter(\n",
    "            x = np.arange(0, number_samples/sample_frequency, \n",
    "                          1/sample_frequency),\n",
    "            y = np.imag(myarray[i]), name='Imag'))\n",
    "    myfigs.append(go.FigureWidget(data = [myplt_re_temp, myplt_im_temp],\n",
    "            layout = {'title': ''.join(['Time Domain Plot of ADC Channel 3 Decimation step ', \n",
    "                                         str(i)]), \n",
    "                      'xaxis': {'title' : 'Seconds (s)',\n",
    "                                'autorange' : True},\n",
    "                      'yaxis' : {'title' : 'Amplitude (V)'}}))\n",
    "    \n",
    "ipw.VBox(myfigs)"
   ]
  },
  {
   "cell_type": "code",
   "execution_count": null,
   "id": "c16512f7-a2ba-4773-8251-18e3ac3903a5",
   "metadata": {},
   "outputs": [],
   "source": []
  }
 ],
 "metadata": {
  "kernelspec": {
   "display_name": "Python 3 (ipykernel)",
   "language": "python",
   "name": "python3"
  },
  "language_info": {
   "codemirror_mode": {
    "name": "ipython",
    "version": 3
   },
   "file_extension": ".py",
   "mimetype": "text/x-python",
   "name": "python",
   "nbconvert_exporter": "python",
   "pygments_lexer": "ipython3",
   "version": "3.10.4"
  }
 },
 "nbformat": 4,
 "nbformat_minor": 5
}
