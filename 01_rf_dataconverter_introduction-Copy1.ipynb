{
 "cells": [
  {
   "cell_type": "markdown",
   "metadata": {},
   "source": [
    "# RF Data Converter Introduction\n",
    "----\n",
    "\n",
    "<div class=\"alert alert-box alert-info\">\n",
    "Please use Jupyter labs http://board_ip_address/lab for this notebook.\n",
    "</div>\n",
    "\n",
    "This notebook presents an introduction to the RF Data\n",
    "Converters (RF DCs) on the RFSoC4x2 board.\n",
    "\n",
    "## Aims\n",
    "* Describe the `xrfdc` Python package that is required to control and\n",
    "  configure the RF DCs from Jupyter\n",
    "* Investigate the radio hierarchy in the base overlay, allowing the\n",
    "  user to develop very simple RF designs. \n",
    "* Present the data inspection and visualisation of the RF DCs using \n",
    "  Plotly.\n",
    "\n",
    "## Table of Contents\n",
    "* [Introduction](#introduction)\n",
    "* [Hardware Setup](#hardware-setup)\n",
    "* [The Radio Hierarchy](#radio-hierarchy)\n",
    "* [Transmitter and Receiver](#the-transmitter-and-receiver)\n",
    "* [RF Data Inspection](#rf-data-inspection)\n",
    "* [Conclusion](#conclusion)\n",
    "\n",
    "## References\n",
    "* [Xilinx, Inc, \"USP RF Data Converter: LogiCORE IP Product Guide\", PG269, v2.4, November 2020](https://www.xilinx.com/support/documentation/ip_documentation/usp_rf_data_converter/v2_4/pg269-rf-data-converter.pdf)\n",
    "* [Xilinx, Inc, \"Vivado Design Suite: The AXI Reference Guide\", UG1037, v4.0, June 2017](https://www.xilinx.com/support/documentation/ip_documentation/axi_ref_guide/latest/ug1037-vivado-axi-reference-guide.pdf)\n",
    "\n",
    "## Revision History\n",
    "\n",
    "* v1.0 | 25/02/2022 | First notebook revision."
   ]
  },
  {
   "cell_type": "markdown",
   "metadata": {},
   "source": [
    "----\n",
    "\n",
    "## Introduction <a class=\"anchor\" id=\"introduction\"></a>\n",
    "\n",
    "An overview of the Zynq RFSoC device is shown below; there are\n",
    "three major components:\n",
    "\n",
    "* Processing System (PS)\n",
    "* Programmable Logic (PL)\n",
    "* RF Data Converters (RF DC, including ADC and DAC)\n",
    "\n",
    "The RF data converters are significant features of the Zynq RFSoC\n",
    "device as they interface directly to the PL.\n",
    "This brings many advantages, including the ability to\n",
    "perform direct RF sampling and low-latency processing.\n",
    "The RFSoC4x2 is a Gen 3 RFSoC platform consisting of an XCZU48DR-FSVG1517-2-E RFSoC device.\n",
    "This RFSoC device has 8 RF ADC channels and 8 RF DAC channels. However, only the following\n",
    "is accessible on the RFSoC4x2 development board.\n",
    "\n",
    "* 4x RF Analogue-to-Digital Converters (RF ADCs)\n",
    "    * Sample rate of 5 GSPS\n",
    "    * 14-bit conversion\n",
    "* 2x RF Digital-to-Analogue Converters (RF DACs)\n",
    "    * Sample rate of 9.85 GSPS\n",
    "    * 14-bit conversion"
   ]
  },
  {
   "cell_type": "markdown",
   "metadata": {},
   "source": [
    "<img src='data/rfsystem_rfdc_overview.png' align='left' style='left' height='75%' width='75%'/>"
   ]
  },
  {
   "cell_type": "markdown",
   "metadata": {},
   "source": [
    "Let's take a closer look at the RF DC block, starting with\n",
    "the RF ADC tiles. Each tile contains 2 RF ADC blocks, \n",
    "which can be used to receive, or Digital Down Convert (DDC), \n",
    "an analogue signal. Each RF ADC block contains:\n",
    "\n",
    "* A gearbox FIFO\n",
    "* 1x (bypass), 2x, 3x, 4x, 5x, 6x, 8x, 10x, 12x, 16x, 20x, 24x or 40x decimator\n",
    "* A complex mixer\n",
    "* A Quadrature Modulation Correction (QMC) unit\n",
    "* Embedded Digital Step Attenuator (DSA)\n",
    "* On-chip clock distribution network\n",
    "\n",
    "The image below presents the typical RF ADC processing \n",
    "pipeline:\n",
    "\n",
    "1. The RF ADC samples the input waveform to convert it\n",
    "   into a digital signal.\n",
    "2. A threshold detector can be employed to detect and record\n",
    "   input amplitude levels. \n",
    "3. The QMC is used to offset potential imbalance in the\n",
    "   quality of the received complex signal.\n",
    "4. The I and Q mixer can mix the input signal to baseband.\n",
    "5. The I and Q decimators are capable of a wide range of\n",
    "   decimation options before interfacing the PL via the gearbox FIFO."
   ]
  },
  {
   "cell_type": "markdown",
   "metadata": {},
   "source": [
    "<img src='data/rfsystem_rfadc_block_overview.png' align='left' style='left' height='100%' width='100%'/>"
   ]
  },
  {
   "cell_type": "markdown",
   "metadata": {},
   "source": [
    "The RF DAC block has a similar pipeline to the RF ADC;\n",
    "however, it is in reverse this time for Digital Up Conversion (DUC).\n",
    "\n",
    "1. The data to be transmitted is interfaced to the RF DAC block from the PL.\n",
    "2. The digital signal is interpolated by a factor of 1x (bypass), 2x, 3x, 4x, 5x, 6x, 8x, 10x, 12x, 16x, 20x, 24x    or 40x.\n",
    "3. The digital signal is transferred to the complex mixer to be mixed\n",
    "   to the desired carrier frequency. \n",
    "4. The signal then passes through an Image Rejection (IMR), which is capable of removing images in either the 1st or 2nd Nyquist zones. The IMR provides an additional 2x interpolation that can be bypassed if required.\n",
    "5. After the IMR filter stage, the signal can optionally\n",
    "   be convolved with an inverse (anti) sinc filter to improve the\n",
    "   roll-off of the first Nyquist zone.\n",
    "6. The digital signal is then converted to analogue through the\n",
    "   RF DAC sampler.\n"
   ]
  },
  {
   "cell_type": "markdown",
   "metadata": {},
   "source": [
    "<img src='data/rfsystem_rfdac_block_overview.png' align='left' style='left' height='100%' width='100%'/>"
   ]
  },
  {
   "cell_type": "markdown",
   "metadata": {},
   "source": [
    "In this notebook, we will be demonstrating many of the features\n",
    "mentioned above via a simple loopback example.\n",
    "\n",
    "## Hardware Setup <a class=\"anchor\" id=\"hardware-setup\"></a>\n",
    "\n",
    "The RFSoC4x2 board contains 4 RF ADC channels and 2 RF DAC channels. For this demonstration, we will be using 2 RF ADC channels and 2 RF DAC channels in loopback.\n",
    "\n",
    "Make the loopback connection, using SMA cables, as shown below:\n",
    "\n",
    "* Channel 3: DAC A to ADC A\n",
    "* Channel 2: DAC B to ADC B\n",
    "\n",
    "See the image below for a demonstration."
   ]
  },
  {
   "cell_type": "markdown",
   "metadata": {},
   "source": [
    "<img src='data/rfsoc4x2_loopback.jpg' align='left' style='left' height='75%' width='75%'/>"
   ]
  },
  {
   "cell_type": "markdown",
   "metadata": {},
   "source": [
    "<div class=\"alert alert-heading alert-danger\">\n",
    "    <h4 class=\"alert-heading\">Warning:</h4>\n",
    "\n",
    "In this demo we are transmitting signals via cables.\n",
    "This device can also transmit wireless signals. \n",
    "Keep in mind that unlicensed transmission of wireless signals\n",
    "may be illegal in your location. \n",
    "Radio signals may also interfere with nearby devices,\n",
    "such as pacemakers and emergency radio equipment. \n",
    "If you are unsure, please seek professional support.\n",
    "</div>\n",
    "\n",
    "----"
   ]
  },
  {
   "cell_type": "markdown",
   "metadata": {},
   "source": [
    "## The Radio Hierarchy <a class=\"anchor\" id=\"radio-hierarchy\"></a>\n",
    "\n",
    "We need to add custom control logic in the PL to communicate\n",
    "with the RF ADC or RF DAC. The RFSoC4x2 base overlay contains\n",
    "such logic that will allow you to evaluate the RF DCs. \n",
    "There are two IP Cores - the transmitter and the receiver.\n",
    "\n",
    "* **Amplitude Controller** - can apply a value to the input of the RF DAC.\n",
    "The value can be set by writing to an AXI-Lite register. \n",
    "The register value can be mixed with the Numerically\n",
    "Controlled Oscillator (NCO) in the fine mixer to create a tone. \n",
    "The tone is looped back round into the RF ADC.\n",
    "\n",
    "* **Packet Generator** - interfaces to the output of RF ADC block. \n",
    "The data is used to generate an [AXI-Stream packet](https://www.xilinx.com/support/documentation/ip_documentation/axi_ref_guide/latest/ug1037-vivado-axi-reference-guide.pdf).\n",
    "The AXI-Stream packet is sent to an AXI Direct Memory\n",
    "Access (DMA) core and transferred to DDR memory.\n",
    "\n",
    "These 2 IP cores are connected to each channel of the RFSoC4x2 board.\n",
    "They are conveniently placed inside a hierarchical block, `radio`, \n",
    "as shown below."
   ]
  },
  {
   "cell_type": "markdown",
   "metadata": {},
   "source": [
    "<img src='data/rfsystem_introduction.png' align='left' style='left' height='75%' width='75%'/>"
   ]
  },
  {
   "cell_type": "markdown",
   "metadata": {},
   "source": [
    "Let's now download the base overlay and initialize the drivers."
   ]
  },
  {
   "cell_type": "code",
   "execution_count": 1,
   "metadata": {},
   "outputs": [
    {
     "data": {
      "application/javascript": [
       "\n",
       "try {\n",
       "require(['notebook/js/codecell'], function(codecell) {\n",
       "  codecell.CodeCell.options_default.highlight_modes[\n",
       "      'magic_text/x-csrc'] = {'reg':[/^%%microblaze/]};\n",
       "  Jupyter.notebook.events.one('kernel_ready.Kernel', function(){\n",
       "      Jupyter.notebook.get_cells().map(function(cell){\n",
       "          if (cell.cell_type == 'code'){ cell.auto_highlight(); } }) ;\n",
       "  });\n",
       "});\n",
       "} catch (e) {};\n"
      ]
     },
     "metadata": {},
     "output_type": "display_data"
    },
    {
     "data": {
      "application/javascript": [
       "\n",
       "try {\n",
       "require(['notebook/js/codecell'], function(codecell) {\n",
       "  codecell.CodeCell.options_default.highlight_modes[\n",
       "      'magic_text/x-csrc'] = {'reg':[/^%%pybind11/]};\n",
       "  Jupyter.notebook.events.one('kernel_ready.Kernel', function(){\n",
       "      Jupyter.notebook.get_cells().map(function(cell){\n",
       "          if (cell.cell_type == 'code'){ cell.auto_highlight(); } }) ;\n",
       "  });\n",
       "});\n",
       "} catch (e) {};\n"
      ]
     },
     "metadata": {},
     "output_type": "display_data"
    }
   ],
   "source": [
    "from pynq.overlays.base import BaseOverlay\n",
    "\n",
    "base = BaseOverlay('base.bit')"
   ]
  },
  {
   "cell_type": "markdown",
   "metadata": {},
   "source": [
    "The RFSoC4x2 has a sophisticated clocking network, which can generate\n",
    "low-jitter clocks for the RF DC Phase-Locked Loops (PLLs).\n",
    "\n",
    "The base overlay has a simple method to initialize these clocks. Run the cell below to set\n",
    "the LMK and LMX clocks to 245.76MHz and 491.52MHz, respectively."
   ]
  },
  {
   "cell_type": "code",
   "execution_count": 2,
   "metadata": {},
   "outputs": [],
   "source": [
    "base.init_rf_clks()"
   ]
  },
  {
   "cell_type": "markdown",
   "metadata": {},
   "source": [
    "Now we should investigate the `radio` hierarchy."
   ]
  },
  {
   "cell_type": "code",
   "execution_count": 3,
   "metadata": {},
   "outputs": [
    {
     "data": {
      "text/plain": [
       "\u001b[0;31mType:\u001b[0m           RadioWrapper\n",
       "\u001b[0;31mString form:\u001b[0m    <rfsystem.hierarchies.RadioWrapper object at 0xffff63bee860>\n",
       "\u001b[0;31mFile:\u001b[0m           /usr/local/share/pynq-venv/lib/python3.10/site-packages/rfsystem/hierarchies.py\n",
       "\u001b[0;31mDocstring:\u001b[0m     \n",
       "Hierarchy driver for the entire radio subsystem.\n",
       "\n",
       "Exposes the transmit, receive, and rfdc as attributes. The rfdc\n",
       "dac and adc tiles are passed to the transmitter and receiver\n",
       "respectively.\n",
       "\n",
       "This wrapper assumes the following separate pipelines\n",
       "* transmitter -> rfdc -> \"the outside world\"\n",
       "* \"the outside world\" -> rfdc => receiver\n",
       "\n",
       "The rfdc core is common between each pipeline.\n",
       "\n",
       "Attributes\n",
       "----------\n",
       "transmitter : pynq.lib.radio.Transmitter\n",
       "    The transmit control system\n",
       "receiver : pynq.lib.radio.Receiver\n",
       "    The receive control system\n",
       "rfdc : xrfdc package\n",
       "    The RF Data Converter core\n",
       "\u001b[0;31mInit docstring:\u001b[0m Create a new _IPMap based on a hierarchical description.\n"
      ]
     },
     "metadata": {},
     "output_type": "display_data"
    }
   ],
   "source": [
    "base.radio?"
   ]
  },
  {
   "cell_type": "markdown",
   "metadata": {},
   "source": [
    "We can see the `transmitter` and `receiver` hierarchies. \n",
    "The RF DC object is also available, however, we don't need this. The reason\n",
    "is that each transmitter and receiver is automatically paired with their\n",
    "associated RF DC tile and block.\n",
    "\n",
    "The `radio` hierarchy also initializes all of the active RF ADC and RF DAC\n",
    "blocks to sample at 4915.2 MSPS (close to the maximum sample rate for the RF ADC).\n",
    "By default the RF DAC and RF ADC mixer frequencies are 1228.8 MHz, which is\n",
    "in the center of the first Nyquist Zone."
   ]
  },
  {
   "cell_type": "markdown",
   "metadata": {},
   "source": [
    "## Transmitter and Receiver <a class=\"anchor\" id=\"the-transmitter-and-receiver\"></a>\n",
    "\n",
    "The transmitter hierarchy contains two channels. Each channel contains an\n",
    "*Amplitude Controller* connected directly to an RF DAC. We can list the\n",
    "available channels of the transmitter using the `get_channel_description()`\n",
    "method."
   ]
  },
  {
   "cell_type": "code",
   "execution_count": 4,
   "metadata": {},
   "outputs": [
    {
     "data": {
      "text/plain": [
       "{'Channel 0': {'Tile': 228, 'Block': 0},\n",
       " 'Channel 1': {'Tile': 230, 'Block': 0}}"
      ]
     },
     "execution_count": 4,
     "metadata": {},
     "output_type": "execute_result"
    }
   ],
   "source": [
    "base.radio.transmitter.get_channel_description()"
   ]
  },
  {
   "cell_type": "markdown",
   "metadata": {},
   "source": [
    "The report above states that there are two active channels in the system.\n",
    "\n",
    "The receiver hierarchy contains four channels, however, for this demonstration we will only be using two.\n",
    "The *Packet Generator*\n",
    "arranges the data into AXI-Stream packets and sends these packets to DDR\n",
    "memory via AXI DMA. Let's run the cell below."
   ]
  },
  {
   "cell_type": "code",
   "execution_count": 5,
   "metadata": {},
   "outputs": [
    {
     "data": {
      "text/plain": [
       "{'Channel 0': {'Tile': 224, 'Block': 0},\n",
       " 'Channel 1': {'Tile': 224, 'Block': 1},\n",
       " 'Channel 2': {'Tile': 226, 'Block': 0},\n",
       " 'Channel 3': {'Tile': 226, 'Block': 1}}"
      ]
     },
     "execution_count": 5,
     "metadata": {},
     "output_type": "execute_result"
    }
   ],
   "source": [
    "base.radio.receiver.get_channel_description()"
   ]
  },
  {
   "cell_type": "markdown",
   "metadata": {},
   "source": [
    "There are several methods to read and write to RF block registers.\n",
    "These methods are common to the RF DAC and RF ADC.\n",
    "\n",
    "```python\n",
    "BlockStatus\n",
    "MixerSettings\n",
    "QMCSettings\n",
    "CoarseDelaySettings\n",
    "NyquistZone\n",
    "```\n",
    "\n",
    "For example, `base.radio.transmitter.channel[0].dac_block.QMCSettings`\n",
    "will display the QMC settings for the transmit DAC block.\n",
    "\n",
    "For many of these settings, you can change them and they will impact the operation."
   ]
  },
  {
   "cell_type": "code",
   "execution_count": 6,
   "metadata": {},
   "outputs": [
    {
     "data": {
      "text/plain": [
       "{'EnablePhase': 0,\n",
       " 'EnableGain': 0,\n",
       " 'GainCorrectionFactor': 0.0,\n",
       " 'PhaseCorrectionFactor': 0.0,\n",
       " 'OffsetCorrectionFactor': 0,\n",
       " 'EventSource': 0}"
      ]
     },
     "execution_count": 6,
     "metadata": {},
     "output_type": "execute_result"
    }
   ],
   "source": [
    "base.radio.transmitter.channel[0].dac_block.QMCSettings"
   ]
  },
  {
   "cell_type": "markdown",
   "metadata": {},
   "source": [
    "Another example you can try:\n",
    "```python\n",
    "base.radio.receiver.channel[2].adc_block.CoarseDelaySettings\n",
    "```\n",
    "\n",
    "To further investigate the RF ADC and RF DAC, you can run the code cell below."
   ]
  },
  {
   "cell_type": "code",
   "execution_count": 7,
   "metadata": {},
   "outputs": [
    {
     "name": "stdout",
     "output_type": "stream",
     "text": [
      "Help on RFdcDacBlock in module xrfdc object:\n",
      "\n",
      "class RFdcDacBlock(RFdcBlock)\n",
      " |  RFdcDacBlock(*args, **kwargs)\n",
      " |  \n",
      " |  Method resolution order:\n",
      " |      RFdcDacBlock\n",
      " |      RFdcBlock\n",
      " |      builtins.object\n",
      " |  \n",
      " |  Methods defined here:\n",
      " |  \n",
      " |  SetDACVOP(self, uACurrent)\n",
      " |  \n",
      " |  __init__(self, *args, **kwargs)\n",
      " |      Initialize self.  See help(type(self)) for accurate signature.\n",
      " |  \n",
      " |  ----------------------------------------------------------------------\n",
      " |  Readonly properties defined here:\n",
      " |  \n",
      " |  FabRdVldWords\n",
      " |  \n",
      " |  OutputCurr\n",
      " |  \n",
      " |  ----------------------------------------------------------------------\n",
      " |  Data descriptors defined here:\n",
      " |  \n",
      " |  DACCompMode\n",
      " |  \n",
      " |  DataPathMode\n",
      " |  \n",
      " |  DecoderMode\n",
      " |  \n",
      " |  FabWrVldWords\n",
      " |  \n",
      " |  IMRPassMode\n",
      " |  \n",
      " |  InterpolationFactor\n",
      " |  \n",
      " |  InvSincFIR\n",
      " |  \n",
      " |  ----------------------------------------------------------------------\n",
      " |  Methods inherited from RFdcBlock:\n",
      " |  \n",
      " |  GetConnectedIData(self)\n",
      " |  \n",
      " |  GetConnectedQData(self)\n",
      " |  \n",
      " |  ResetInternalFIFOWidth(self)\n",
      " |  \n",
      " |  ResetNCOPhase(self)\n",
      " |  \n",
      " |  UpdateEvent(self, Event)\n",
      " |  \n",
      " |  ----------------------------------------------------------------------\n",
      " |  Readonly properties inherited from RFdcBlock:\n",
      " |  \n",
      " |  BlockStatus\n",
      " |  \n",
      " |  EnabledInterrupts\n",
      " |  \n",
      " |  ----------------------------------------------------------------------\n",
      " |  Data descriptors inherited from RFdcBlock:\n",
      " |  \n",
      " |  CoarseDelaySettings\n",
      " |  \n",
      " |  MixerSettings\n",
      " |  \n",
      " |  NyquistZone\n",
      " |  \n",
      " |  PwrMode\n",
      " |  \n",
      " |  QMCSettings\n",
      " |  \n",
      " |  __dict__\n",
      " |      dictionary for instance variables (if defined)\n",
      " |  \n",
      " |  __weakref__\n",
      " |      list of weak references to the object (if defined)\n",
      "\n"
     ]
    }
   ],
   "source": [
    "help(base.radio.transmitter.channel[0].dac_block)"
   ]
  },
  {
   "cell_type": "markdown",
   "metadata": {},
   "source": [
    "More to try:\n",
    "```python\n",
    "help(base.radio.transmitter.channel[0].dac_tile)\n",
    "help(base.radio.receiver.channel[0].adc_block)\n",
    "help(base.radio.receiver.channel[0].adc_tile)\n",
    "```\n",
    "Many of these attributes / methods depend on the configuration\n",
    "of the PL and the hardware. You will need to implement your own hardware \n",
    "design if you want to do something else."
   ]
  },
  {
   "cell_type": "markdown",
   "metadata": {},
   "source": [
    "## RF Data Inspection <a class=\"anchor\" id=\"rf-data-inspection\"></a>\n",
    "\n",
    "Now that you have a fundamental understanding of how to control the RF DCs, \n",
    "we can inspect RF data using the radio hierarchy block. To make it more\n",
    "interesting, we generate stimulus using the RF DAC block for each channel. \n",
    "Let's configure the mixer frequencies for each RF-DAC block channel below. \n",
    "\n",
    "We select frequencies that fall directly within a frequency bin with minimal scallop loss, where:\n",
    "\n",
    "$$\n",
    "\\frac{f_s}{samples} = f_{bin}\\\\\n",
    "\\frac{2457.6 MHz}{256} = 9.6 MHz\n",
    "$$"
   ]
  },
  {
   "cell_type": "code",
   "execution_count": 8,
   "metadata": {},
   "outputs": [],
   "source": [
    "base.radio.transmitter.channel[0].dac_block.MixerSettings['Freq'] = 900 # MHz \n",
    "base.radio.transmitter.channel[1].dac_block.MixerSettings['Freq'] = 1200 # MHz"
   ]
  },
  {
   "cell_type": "markdown",
   "metadata": {},
   "source": [
    "The PL contains an amplitude controller for signal transmission. \n",
    "We can set the amplitude of the signal and enable transmission for each channel."
   ]
  },
  {
   "cell_type": "code",
   "execution_count": 9,
   "metadata": {},
   "outputs": [],
   "source": [
    "for i in range(0, len(base.radio.transmitter.channel)):\n",
    "    base.radio.transmitter.channel[i].control.gain = 0.5\n",
    "    base.radio.transmitter.channel[i].control.enable = True"
   ]
  },
  {
   "cell_type": "code",
   "execution_count": 36,
   "metadata": {},
   "outputs": [
    {
     "name": "stdout",
     "output_type": "stream",
     "text": [
      "Help on RFdcAdcBlock in module xrfdc object:\n",
      "\n",
      "class RFdcAdcBlock(RFdcBlock)\n",
      " |  RFdcAdcBlock(*args, **kwargs)\n",
      " |  \n",
      " |  Method resolution order:\n",
      " |      RFdcAdcBlock\n",
      " |      RFdcBlock\n",
      " |      builtins.object\n",
      " |  \n",
      " |  Methods defined here:\n",
      " |  \n",
      " |  DisableCoefficientsOverride(self, CalibrationBlock)\n",
      " |  \n",
      " |  GetCalCoefficients(self, CalibrationBlock, *CoeffPtr)\n",
      " |  \n",
      " |  ResetInternalFIFOWidthObs(self)\n",
      " |  \n",
      " |  SetCalCoefficients(self, CalibrationBlock, *CoeffPtr)\n",
      " |  \n",
      " |  __init__(self, *args, **kwargs)\n",
      " |      Initialize self.  See help(type(self)) for accurate signature.\n",
      " |  \n",
      " |  ----------------------------------------------------------------------\n",
      " |  Readonly properties defined here:\n",
      " |  \n",
      " |  FabWrVldWords\n",
      " |  \n",
      " |  FabWrVldWordsObs\n",
      " |  \n",
      " |  ----------------------------------------------------------------------\n",
      " |  Data descriptors defined here:\n",
      " |  \n",
      " |  CalFreeze\n",
      " |  \n",
      " |  CalibrationMode\n",
      " |  \n",
      " |  DSA\n",
      " |  \n",
      " |  DecimationFactor\n",
      " |  \n",
      " |  DecimationFactorObs\n",
      " |  \n",
      " |  Dither\n",
      " |  \n",
      " |  FabRdVldWords\n",
      " |  \n",
      " |  FabRdVldWordsObs\n",
      " |  \n",
      " |  ----------------------------------------------------------------------\n",
      " |  Methods inherited from RFdcBlock:\n",
      " |  \n",
      " |  GetConnectedIData(self)\n",
      " |  \n",
      " |  GetConnectedQData(self)\n",
      " |  \n",
      " |  ResetInternalFIFOWidth(self)\n",
      " |  \n",
      " |  ResetNCOPhase(self)\n",
      " |  \n",
      " |  UpdateEvent(self, Event)\n",
      " |  \n",
      " |  ----------------------------------------------------------------------\n",
      " |  Readonly properties inherited from RFdcBlock:\n",
      " |  \n",
      " |  BlockStatus\n",
      " |  \n",
      " |  EnabledInterrupts\n",
      " |  \n",
      " |  ----------------------------------------------------------------------\n",
      " |  Data descriptors inherited from RFdcBlock:\n",
      " |  \n",
      " |  CoarseDelaySettings\n",
      " |  \n",
      " |  MixerSettings\n",
      " |  \n",
      " |  NyquistZone\n",
      " |  \n",
      " |  PwrMode\n",
      " |  \n",
      " |  QMCSettings\n",
      " |  \n",
      " |  __dict__\n",
      " |      dictionary for instance variables (if defined)\n",
      " |  \n",
      " |  __weakref__\n",
      " |      list of weak references to the object (if defined)\n",
      "\n"
     ]
    }
   ],
   "source": [
    "help(base.radio.receiver.channel[3].adc_block)"
   ]
  },
  {
   "cell_type": "code",
   "execution_count": 64,
   "metadata": {},
   "outputs": [
    {
     "data": {
      "text/plain": [
       "{'Freq': 1200.0,\n",
       " 'PhaseOffset': 0.0,\n",
       " 'EventSource': 2,\n",
       " 'CoarseMixFreq': 0,\n",
       " 'MixerMode': 3,\n",
       " 'FineMixerScale': 1,\n",
       " 'MixerType': 2}"
      ]
     },
     "execution_count": 64,
     "metadata": {},
     "output_type": "execute_result"
    }
   ],
   "source": [
    "base.radio.receiver.channel[3].adc_block.MixerSettings['Freq'] = 1200\n",
    "base.radio.receiver.channel[3].adc_block.UpdateEvent(xrfdc.EVENT_MIXER)\n",
    "base.radio.receiver.channel[3].adc_block.MixerSettings\n"
   ]
  },
  {
   "cell_type": "markdown",
   "metadata": {},
   "source": [
    "The RF-ADC block mixer frequency can also be tuned. We set it to 1228.8 MHz as\n",
    "that is the default setting. This is a suitable mixer frequency for the\n",
    "next part of the demonstration, where we will transfer time domain samples\n",
    "from receiver channels.\n",
    "\n",
    "Firstly, we will define the numbers of samples to be transferred. \n",
    "The range of samples that can be transferred is between 16 to 32768.\n",
    "Running the code cell below, will transfer complex data, with an amplitude of 1."
   ]
  },
  {
   "cell_type": "code",
   "execution_count": 54,
   "metadata": {},
   "outputs": [],
   "source": [
    "import xrfdc"
   ]
  },
  {
   "cell_type": "code",
   "execution_count": 77,
   "metadata": {},
   "outputs": [
    {
     "data": {
      "text/plain": [
       "2"
      ]
     },
     "execution_count": 77,
     "metadata": {},
     "output_type": "execute_result"
    }
   ],
   "source": [
    "#help(base.radio.receiver.channel[3].adc_block)\n",
    "base.radio.receiver.channel[3].adc_block.DecimationFactor = 2\n",
    "base.radio.receiver.channel[3].adc_block.DecimationFactor\n"
   ]
  },
  {
   "cell_type": "code",
   "execution_count": 78,
   "metadata": {},
   "outputs": [],
   "source": [
    "number_samples = 256*2*2\n",
    "cdata = []\n",
    "for i in range(0, len(base.radio.receiver.channel)):\n",
    "    cdata.append(base.radio.receiver.channel[i].transfer(number_samples))"
   ]
  },
  {
   "cell_type": "code",
   "execution_count": 79,
   "metadata": {},
   "outputs": [],
   "source": [
    "#myarray = []\n",
    "myarray.append(cdata[3])"
   ]
  },
  {
   "cell_type": "code",
   "execution_count": 72,
   "metadata": {
    "collapsed": true,
    "jupyter": {
     "outputs_hidden": true
    },
    "tags": []
   },
   "outputs": [
    {
     "data": {
      "text/plain": [
       "[array([-0.10058594+0.13656616j, -0.0050354 +0.1121521j ,\n",
       "         0.08972168+0.02767944j,  0.13607788-0.07675171j,\n",
       "         0.10531616-0.13296509j,  0.0166626 -0.11358643j,\n",
       "        -0.08502197-0.03363037j, -0.13656616+0.06762695j,\n",
       "        -0.11019897+0.13156128j, -0.02261353+0.11917114j,\n",
       "         0.07531738+0.0425415j ,  0.13162231-0.05703735j,\n",
       "         0.11434937-0.12637329j,  0.03625488-0.12661743j,\n",
       "        -0.06732178-0.05578613j, -0.12942505+0.04864502j,\n",
       "        -0.11834717+0.12496948j, -0.04147339+0.1270752j ,\n",
       "         0.05895996+0.06121826j,  0.12838745-0.03939819j,\n",
       "         0.12802124-0.1187439j ,  0.05099487-0.13381958j,\n",
       "        -0.04876709-0.0703125j , -0.121521  +0.02868652j,\n",
       "        -0.12615967+0.11270142j, -0.06356812+0.13345337j,\n",
       "         0.03765869+0.08251953j,  0.11676025-0.01730347j,\n",
       "         0.1293335 -0.10803223j,  0.07131958-0.1335144j ,\n",
       "        -0.02841187-0.09069824j, -0.11279297+0.00848389j,\n",
       "        -0.13162231+0.10125732j, -0.07775879+0.13592529j,\n",
       "         0.02297974+0.09765625j,  0.10800171+0.00054932j,\n",
       "         0.13696289-0.09268188j,  0.08688354-0.13592529j,\n",
       "        -0.01116943-0.10302734j, -0.1022644 -0.01394653j,\n",
       "        -0.13510132+0.08880615j, -0.09347534+0.13546753j,\n",
       "        -0.00244141+0.10870361j,  0.09783936+0.02478027j,\n",
       "         0.13375854-0.08129883j,  0.10116577-0.13360596j,\n",
       "         0.01260376-0.11367798j, -0.08547974-0.02957153j,\n",
       "        -0.13247681+0.07022095j, -0.10852051+0.13363647j,\n",
       "        -0.01922607+0.12091064j,  0.07995605+0.03860474j,\n",
       "         0.13406372-0.06237793j,  0.11154175-0.12957764j,\n",
       "         0.02853394-0.12054443j, -0.07113647-0.04754639j,\n",
       "        -0.12994385+0.0526123j , -0.11740112+0.12619019j,\n",
       "        -0.04022217+0.13031006j,  0.06237793+0.05831909j,\n",
       "         0.12713623-0.04110718j,  0.12585449-0.12185669j,\n",
       "         0.04711914-0.12857056j, -0.05288696-0.0690918j ,\n",
       "        -0.12643433+0.03308105j, -0.12460327+0.11868286j,\n",
       "        -0.05871582+0.13525391j,  0.04327393+0.07730103j,\n",
       "         0.11846924-0.02682495j,  0.1322937 -0.1078186j ,\n",
       "         0.06723022-0.13665771j, -0.03491211-0.08425903j,\n",
       "        -0.11663818+0.01480103j, -0.13275146+0.10406494j,\n",
       "        -0.07763672+0.13699341j,  0.02142334+0.09442139j,\n",
       "         0.11022949-0.00216675j,  0.13317871-0.09814453j,\n",
       "         0.08035278-0.13378906j, -0.0135498 -0.09713745j,\n",
       "        -0.10400391-0.00686646j, -0.13565063+0.0904541j ,\n",
       "        -0.08840942+0.13803101j,  0.00448608+0.1050415j ,\n",
       "         0.09869385+0.01638794j,  0.13616943-0.08010864j,\n",
       "         0.09539795-0.13269043j,  0.00524902-0.11221313j,\n",
       "        -0.09286499-0.02606201j, -0.13497925+0.07199097j,\n",
       "        -0.10357666+0.13220215j, -0.01712036+0.1194458j ,\n",
       "         0.08178711+0.0385437j ,  0.13565063-0.06530762j,\n",
       "         0.11062622-0.13131714j,  0.02493286-0.11904907j,\n",
       "        -0.07281494-0.04501343j, -0.1307373 +0.05541992j,\n",
       "        -0.11703491+0.12454224j, -0.03771973+0.12860107j,\n",
       "         0.06445312+0.05609131j,  0.12841797-0.04748535j,\n",
       "         0.1194458 -0.1204834j ,  0.046875  -0.13134766j,\n",
       "        -0.05715942-0.06561279j, -0.12576294+0.03662109j,\n",
       "        -0.12609863+0.11907959j, -0.05639648+0.12976074j,\n",
       "         0.04690552+0.07263184j,  0.12063599-0.02560425j,\n",
       "         0.12768555-0.11148071j,  0.06530762-0.13232422j,\n",
       "        -0.03616333-0.08111572j, -0.11669922+0.01657104j,\n",
       "        -0.12963867+0.10513306j, -0.07278442+0.13516235j,\n",
       "         0.02645874+0.09152222j,  0.1138916 -0.00619507j,\n",
       "         0.13366699-0.10122681j,  0.07754517-0.13568115j,\n",
       "        -0.01904297-0.09390259j, -0.10577393-0.00112915j,\n",
       "        -0.13345337+0.09124756j, -0.08734131+0.13583374j,\n",
       "         0.00634766+0.10409546j,  0.10217285+0.01028442j,\n",
       "         0.13537598-0.0819397j ,  0.09255981-0.13250732j,\n",
       "         0.0015564 -0.10910034j, -0.09243774-0.02111816j,\n",
       "        -0.13238525+0.0774231j , -0.10186768+0.13461304j,\n",
       "        -0.01037598+0.11364746j,  0.08572388+0.03131104j,\n",
       "         0.13476562-0.06768799j,  0.11038208-0.12957764j,\n",
       "         0.01998901-0.11752319j, -0.0770874 -0.04449463j,\n",
       "        -0.13363647+0.06060791j, -0.11398315+0.12860107j,\n",
       "        -0.02999878+0.12591553j,  0.068573  +0.05303955j,\n",
       "         0.13067627-0.04949951j,  0.11740112-0.12579346j,\n",
       "         0.04290771-0.12637329j, -0.06158447-0.05810547j,\n",
       "        -0.12719727+0.04208374j, -0.12649536+0.11871338j,\n",
       "        -0.04821777+0.1307373j ,  0.05062866+0.06799316j,\n",
       "         0.12582397-0.03167725j,  0.13012695-0.11172485j,\n",
       "         0.05905151-0.13415527j, -0.04083252-0.07455444j,\n",
       "        -0.12011719+0.02026367j, -0.13388062+0.11090088j,\n",
       "        -0.06814575+0.13360596j,  0.03417969+0.08526611j,\n",
       "         0.11645508-0.01022339j,  0.13461304-0.10437012j,\n",
       "         0.07910156-0.13513184j, -0.02246094-0.09030151j,\n",
       "        -0.11135864+0.00213623j, -0.13751221+0.09735107j,\n",
       "        -0.08401489+0.1366272j ,  0.01287842+0.09829712j,\n",
       "         0.10372925+0.00915527j,  0.13513184-0.08865356j,\n",
       "         0.09240723-0.13745117j, -0.00067139-0.10684204j,\n",
       "        -0.09698486-0.01657104j, -0.13378906+0.08148193j,\n",
       "        -0.09838867+0.13195801j, -0.00720215+0.11087036j,\n",
       "         0.08740234+0.02633667j,  0.13458252-0.07446289j,\n",
       "         0.10592651-0.13299561j,  0.01934814-0.11959839j,\n",
       "        -0.08056641-0.04034424j, -0.13577271+0.0632019j ,\n",
       "        -0.11431885+0.13034058j, -0.02520752+0.12460327j,\n",
       "         0.07345581+0.0456543j ,  0.13067627-0.05444336j,\n",
       "         0.11834717-0.12680054j,  0.03518677-0.12863159j,\n",
       "        -0.06484985-0.05575562j, -0.13153076+0.04525757j,\n",
       "        -0.11932373+0.12445068j, -0.04852295+0.12658691j,\n",
       "         0.05471802+0.06790161j,  0.12689209-0.03533936j,\n",
       "         0.12808228-0.11990356j,  0.05880737-0.13021851j,\n",
       "        -0.04632568-0.0743103j , -0.12088013+0.02334595j,\n",
       "        -0.12750244+0.11175537j, -0.06274414+0.13278198j,\n",
       "         0.03598022+0.07962036j,  0.11459351-0.01712036j,\n",
       "         0.13427734-0.10391235j,  0.0758667 -0.13635254j,\n",
       "        -0.02636719-0.08990479j, -0.11138916+0.00680542j,\n",
       "        -0.1335144 +0.09854126j, -0.08425903+0.13360596j,\n",
       "         0.01571655+0.09799194j,  0.10687256+0.00674438j,\n",
       "         0.13363647-0.09338379j,  0.08950806-0.13800049j,\n",
       "        -0.00570679-0.10501099j, -0.10003662-0.01358032j,\n",
       "        -0.13616943+0.08374023j, -0.10006714+0.13546753j,\n",
       "        -0.0027771 +0.1078186j ,  0.09011841+0.02554321j,\n",
       "         0.13577271-0.07620239j,  0.10699463-0.13262939j,\n",
       "         0.01385498-0.11392212j, -0.084198  -0.03186035j,\n",
       "        -0.13595581+0.06771851j, -0.10940552+0.13122559j,\n",
       "        -0.02154541+0.11868286j,  0.0769043 +0.04592896j,\n",
       "         0.13424683-0.05841064j,  0.11361694-0.12582397j,\n",
       "         0.03479004-0.12307739j, -0.06744385-0.05026245j,\n",
       "        -0.13223267+0.04910278j, -0.12307739+0.12109375j,\n",
       "        -0.04388428+0.12649536j,  0.05862427+0.06222534j,\n",
       "         0.12612915-0.04064941j,  0.121521  -0.11801147j,\n",
       "         0.05343628-0.12985229j, -0.04937744-0.07437134j,\n",
       "        -0.12167358+0.02914429j, -0.13015747+0.11590576j,\n",
       "        -0.06091309+0.1322937j ,  0.04144287+0.07669067j,\n",
       "         0.12145996-0.02035522j,  0.13235474-0.10610962j,\n",
       "         0.06936646-0.13613892j, -0.03146362-0.08898926j,\n",
       "        -0.11264038+0.00845337j, -0.13354492+0.10107422j,\n",
       "        -0.07901001+0.13793945j,  0.02282715+0.09750366j,\n",
       "         0.10684204+0.j        ,  0.13635254-0.09545898j,\n",
       "         0.08642578-0.13796997j, -0.01190186-0.10125732j,\n",
       "        -0.10025024-0.00872803j, -0.13418579+0.08575439j,\n",
       "        -0.09094238+0.13790894j,  0.00076294+0.10717773j]),\n",
       " array([ 0.04647827-0.11871338j, -0.08612061-0.00360107j,\n",
       "        -0.13247681+0.11398315j, -0.05249023+0.11917114j,\n",
       "         0.07858276+0.01199341j,  0.1388855 -0.11056519j,\n",
       "         0.06185913-0.12878418j, -0.06835938-0.0234375j ,\n",
       "        -0.13494873+0.10388184j, -0.0696106 +0.13150024j,\n",
       "         0.06121826+0.03366089j,  0.13522339-0.09609985j,\n",
       "         0.07940674-0.1343689j , -0.05352783-0.04324341j,\n",
       "        -0.13449097+0.08831787j, -0.09033203+0.13549805j,\n",
       "         0.04428101+0.05072021j,  0.13369751-0.08105469j,\n",
       "         0.09399414-0.13708496j, -0.03439331-0.06005859j,\n",
       "        -0.13137817+0.07479858j, -0.10458374+0.13461304j,\n",
       "         0.02355957+0.0664978j ,  0.1282959 -0.06616211j,\n",
       "         0.10775757-0.13391113j, -0.01278687-0.07583618j,\n",
       "        -0.12283325+0.05606079j, -0.1151123 +0.13531494j,\n",
       "         0.00305176+0.08825684j,  0.11621094-0.04537964j,\n",
       "         0.11981201-0.13272095j,  0.00701904-0.09033203j,\n",
       "        -0.11196899+0.0375061j , -0.12469482+0.13134766j,\n",
       "        -0.01647949+0.10220337j,  0.10629272-0.02539062j,\n",
       "         0.12753296-0.12982178j,  0.02398682-0.1076355j ,\n",
       "        -0.09698486+0.01742554j, -0.13238525+0.12228394j,\n",
       "        -0.03640747+0.11270142j,  0.09249878-0.00592041j,\n",
       "         0.13085938-0.12014771j,  0.04534912-0.11737061j,\n",
       "        -0.08444214-0.00378418j, -0.13528442+0.115448j  ,\n",
       "        -0.05584717+0.12463379j,  0.07623291+0.01391602j,\n",
       "         0.13562012-0.10922241j,  0.06332397-0.12805176j,\n",
       "        -0.07180786-0.02139282j, -0.13775635+0.10211182j,\n",
       "        -0.07556152+0.12765503j,  0.06286621+0.03094482j,\n",
       "         0.13616943-0.09542847j,  0.07849121-0.134552j  ,\n",
       "        -0.04928589-0.04177856j, -0.13528442+0.08700562j,\n",
       "        -0.09085083+0.13323975j,  0.04144287+0.05349731j,\n",
       "         0.13381958-0.08078003j,  0.09399414-0.13653564j,\n",
       "        -0.03125   -0.06201172j, -0.13067627+0.07220459j,\n",
       "        -0.10177612+0.13769531j,  0.02227783+0.07113647j,\n",
       "         0.12564087-0.06274414j,  0.11166382-0.13424683j,\n",
       "        -0.01239014-0.07574463j, -0.12539673+0.05477905j,\n",
       "        -0.11520386+0.13497925j,  0.00378418+0.08410645j,\n",
       "         0.11624146-0.04559326j,  0.12231445-0.13409424j,\n",
       "         0.00924683-0.09460449j, -0.11206055+0.03723145j,\n",
       "        -0.12158203+0.12979126j, -0.01794434+0.10021973j,\n",
       "         0.10562134-0.0255127j ,  0.12872314-0.13143921j,\n",
       "         0.02481079-0.10852051j, -0.09811401+0.01870728j,\n",
       "        -0.13201904+0.12155151j, -0.03994751+0.11160278j,\n",
       "         0.09313965-0.00497437j,  0.13577271-0.11871338j,\n",
       "         0.0486145 -0.12124634j, -0.08322144-0.0010376j ,\n",
       "        -0.1328125 +0.11398315j, -0.05438232+0.12359619j,\n",
       "         0.07781982+0.01272583j,  0.13851929-0.10772705j,\n",
       "         0.06375122-0.12487793j, -0.06542969-0.02584839j,\n",
       "        -0.13656616+0.10153198j, -0.07611084+0.13241577j,\n",
       "         0.05715942+0.03259277j,  0.13549805-0.09521484j,\n",
       "         0.08187866-0.13165283j, -0.04876709-0.04180908j,\n",
       "        -0.13262939+0.08862305j, -0.09246826+0.13192749j,\n",
       "         0.04162598+0.05255127j,  0.13085938-0.07995605j,\n",
       "         0.09454346-0.13879395j, -0.02993774-0.06417847j,\n",
       "        -0.12774658+0.07122803j, -0.10177612+0.13293457j,\n",
       "         0.02075195+0.07086182j,  0.12686157-0.05935669j,\n",
       "         0.11206055-0.13711548j, -0.01104736-0.07846069j,\n",
       "        -0.12484741+0.05459595j, -0.11346436+0.13406372j,\n",
       "         0.00161743+0.08563232j,  0.11437988-0.04428101j,\n",
       "         0.12371826-0.13223267j,  0.0090332 -0.09234619j,\n",
       "        -0.11090088+0.03515625j, -0.12298584+0.13189697j,\n",
       "        -0.01669312+0.10244751j,  0.10452271-0.02728271j,\n",
       "         0.1295166 -0.12640381j,  0.03039551-0.10775757j,\n",
       "        -0.09823608+0.01281738j, -0.1328125 +0.1229248j ,\n",
       "        -0.03921509+0.11560059j,  0.09268188-0.00143433j,\n",
       "         0.13595581-0.11779785j,  0.0486145 -0.12030029j,\n",
       "        -0.08279419-0.00717163j, -0.13504028+0.11096191j,\n",
       "        -0.05957031+0.12194824j,  0.07461548+0.01739502j,\n",
       "         0.13372803-0.10769653j,  0.06704712-0.1293335j ,\n",
       "        -0.06695557-0.02600098j, -0.13717651+0.1015625j ,\n",
       "        -0.07418823+0.12802124j,  0.05627441+0.0375061j ,\n",
       "         0.13378906-0.09396362j,  0.08032227-0.13580322j,\n",
       "        -0.04995728-0.04220581j, -0.13452148+0.08786011j,\n",
       "        -0.08862305+0.13363647j,  0.03869629+0.05285645j,\n",
       "         0.13146973-0.08041382j,  0.09970093-0.13845825j,\n",
       "        -0.02993774-0.06182861j, -0.12774658+0.06939697j,\n",
       "        -0.10391235+0.13763428j,  0.02130127+0.07061768j,\n",
       "         0.12445068-0.06152344j,  0.1114502 -0.13897705j,\n",
       "        -0.00994873-0.0796814j , -0.12121582+0.05392456j,\n",
       "        -0.11972046+0.13562012j, -0.00015259+0.08987427j,\n",
       "         0.11785889-0.04211426j,  0.11889648-0.13494873j,\n",
       "         0.00997925-0.09591675j, -0.10726929+0.03582764j,\n",
       "        -0.12728882+0.13021851j, -0.01968384+0.10491943j,\n",
       "         0.10437012-0.02203369j,  0.12963867-0.12579346j,\n",
       "         0.0302124 -0.10678101j, -0.09719849+0.01574707j,\n",
       "        -0.13204956+0.12036133j, -0.04171753+0.11312866j,\n",
       "         0.08999634-0.00497437j,  0.13363647-0.12005615j,\n",
       "         0.05044556-0.12078857j, -0.08517456-0.00460815j,\n",
       "        -0.13464355+0.11477661j, -0.05935669+0.12634277j,\n",
       "         0.07525635+0.01467896j,  0.13604736-0.10726929j,\n",
       "         0.06494141-0.13012695j, -0.06539917-0.02905273j,\n",
       "        -0.13671875+0.10076904j, -0.07797241+0.12838745j,\n",
       "         0.05862427+0.03799438j,  0.1373291 -0.09332275j,\n",
       "         0.08081055-0.1317749j , -0.04669189-0.04373169j,\n",
       "        -0.13549805+0.08731079j, -0.08917236+0.1378479j ,\n",
       "         0.03970337+0.05606079j,  0.1338501 -0.07983398j,\n",
       "         0.09603882-0.13415527j, -0.02810669-0.06573486j,\n",
       "        -0.12701416+0.06759644j, -0.10775757+0.13238525j,\n",
       "         0.01858521+0.07479858j,  0.12280273-0.0602417j ,\n",
       "         0.11309814-0.13619995j, -0.01068115-0.08068848j,\n",
       "        -0.12197876+0.05154419j, -0.11581421+0.13223267j,\n",
       "        -0.00210571+0.08807373j,  0.11508179-0.03805542j,\n",
       "         0.11853027-0.13546753j,  0.00933838-0.09564209j,\n",
       "        -0.10852051+0.03305054j, -0.1277771 +0.12921143j,\n",
       "        -0.02285767+0.10559082j,  0.10336304-0.02191162j,\n",
       "         0.13095093-0.12884521j,  0.03219604-0.1111145j ,\n",
       "        -0.09585571+0.01116943j, -0.13226318+0.1211853j ,\n",
       "        -0.04315186+0.11401367j,  0.09164429-0.00302124j,\n",
       "         0.13348389-0.11755371j,  0.04760742-0.1210022j ,\n",
       "        -0.08227539-0.00906372j, -0.13375854+0.11062622j,\n",
       "        -0.05865479+0.12573242j,  0.07574463+0.01998901j,\n",
       "         0.13812256-0.10580444j,  0.06771851-0.12976074j,\n",
       "        -0.06524658-0.02954102j, -0.13690186+0.09970093j,\n",
       "        -0.07489014+0.12982178j,  0.05599976+0.03912354j,\n",
       "         0.13531494-0.09298706j,  0.08630371-0.13214111j,\n",
       "        -0.04681396-0.04504395j, -0.13623047+0.08563232j,\n",
       "        -0.09362793+0.13226318j,  0.03890991+0.05847168j,\n",
       "         0.13287354-0.07489014j,  0.10043335-0.1390686j ,\n",
       "        -0.02822876-0.06408691j, -0.1270752 +0.06903076j,\n",
       "        -0.10845947+0.13473511j,  0.01733398+0.07461548j,\n",
       "         0.12582397-0.05828857j,  0.11254883-0.13760376j,\n",
       "        -0.00964355-0.08114624j, -0.12176514+0.05352783j,\n",
       "        -0.11767578+0.13287354j, -0.00314331+0.08728027j,\n",
       "         0.11923218-0.0411377j ,  0.12142944-0.13345337j,\n",
       "         0.00991821-0.09985352j, -0.11117554+0.03060913j,\n",
       "        -0.12588501+0.13131714j, -0.02056885+0.10610962j,\n",
       "         0.10409546-0.02093506j,  0.13052368-0.12908936j,\n",
       "         0.03283691-0.1104126j , -0.09564209+0.0128479j ,\n",
       "        -0.13000488+0.12127686j, -0.04156494+0.11538696j]),\n",
       " array([0.00445557+0.13735962j, 0.00518799+0.13699341j,\n",
       "        0.00500488+0.13534546j, 0.0050354 +0.13674927j,\n",
       "        0.00500488+0.13757324j, 0.00576782+0.13598633j,\n",
       "        0.00427246+0.13742065j, 0.00598145+0.13400269j,\n",
       "        0.0032959 +0.13720703j, 0.00320435+0.13497925j,\n",
       "        0.00366211+0.13442993j, 0.00192261+0.13470459j,\n",
       "        0.00259399+0.13540649j, 0.00360107+0.1383667j ,\n",
       "        0.00350952+0.13803101j, 0.00256348+0.13827515j,\n",
       "        0.00305176+0.13705444j, 0.00582886+0.13394165j,\n",
       "        0.00378418+0.13400269j, 0.0039978 +0.13839722j,\n",
       "        0.00457764+0.13388062j, 0.0032959 +0.13858032j,\n",
       "        0.00445557+0.13433838j, 0.0043335 +0.13522339j,\n",
       "        0.00521851+0.1368103j , 0.00460815+0.13598633j,\n",
       "        0.00497437+0.13723755j, 0.00616455+0.13635254j,\n",
       "        0.00646973+0.13769531j, 0.00479126+0.13800049j,\n",
       "        0.00338745+0.13537598j, 0.00823975+0.13372803j,\n",
       "        0.00262451+0.13531494j, 0.00436401+0.13415527j,\n",
       "        0.00567627+0.13693237j, 0.00299072+0.13925171j,\n",
       "        0.00473022+0.13809204j, 0.00726318+0.13809204j,\n",
       "        0.00665283+0.13607788j, 0.00546265+0.13327026j,\n",
       "        0.00579834+0.13446045j, 0.00476074+0.13409424j,\n",
       "        0.00369263+0.13616943j, 0.00692749+0.13879395j,\n",
       "        0.0057373 +0.13653564j, 0.00534058+0.13424683j,\n",
       "        0.00445557+0.13580322j, 0.0055542 +0.13735962j,\n",
       "        0.00375366+0.13665771j, 0.00671387+0.13665771j,\n",
       "        0.00418091+0.13800049j, 0.00695801+0.13754272j,\n",
       "        0.00708008+0.1350708j , 0.00259399+0.13839722j,\n",
       "        0.00720215+0.13446045j, 0.0072937 +0.13864136j,\n",
       "        0.00305176+0.13793945j, 0.00585938+0.13363647j,\n",
       "        0.00311279+0.13909912j, 0.00622559+0.13864136j,\n",
       "        0.006073  +0.13513184j, 0.0062561 +0.13818359j,\n",
       "        0.00527954+0.13809204j, 0.00372314+0.13873291j,\n",
       "        0.00408936+0.13540649j, 0.00311279+0.13378906j,\n",
       "        0.00488281+0.13742065j, 0.00350952+0.13519287j,\n",
       "        0.00619507+0.13638306j, 0.00390625+0.13623047j,\n",
       "        0.00552368+0.13638306j, 0.00497437+0.1378479j ,\n",
       "        0.00476074+0.13522339j, 0.00460815+0.13684082j,\n",
       "        0.00408936+0.13571167j, 0.00823975+0.13577271j,\n",
       "        0.00537109+0.13980103j, 0.00271606+0.13739014j,\n",
       "        0.00296021+0.13864136j, 0.00292969+0.1361084j ,\n",
       "        0.00427246+0.13308716j, 0.00643921+0.13534546j,\n",
       "        0.00640869+0.13943481j, 0.00650024+0.13668823j,\n",
       "        0.00418091+0.13433838j, 0.00454712+0.13522339j,\n",
       "        0.00488281+0.13671875j, 0.00256348+0.13772583j,\n",
       "        0.006073  +0.13320923j, 0.00418091+0.13757324j,\n",
       "        0.00616455+0.13684082j, 0.00579834+0.13519287j,\n",
       "        0.00296021+0.13546753j, 0.00299072+0.13647461j,\n",
       "        0.00332642+0.13485718j, 0.00656128+0.13818359j,\n",
       "        0.00231934+0.13452148j, 0.00247192+0.13845825j,\n",
       "        0.00585938+0.13812256j, 0.00289917+0.1343689j ,\n",
       "        0.00344849+0.13549805j, 0.00323486+0.13494873j,\n",
       "        0.00592041+0.13922119j, 0.00354004+0.13851929j,\n",
       "        0.00564575+0.1343689j , 0.00332642+0.13452148j,\n",
       "        0.00482178+0.13415527j, 0.00497437+0.13421631j,\n",
       "        0.00515747+0.13552856j, 0.0038147 +0.13751221j,\n",
       "        0.00448608+0.13555908j, 0.00704956+0.13778687j,\n",
       "        0.00442505+0.13406372j, 0.00283813+0.13562012j,\n",
       "        0.00457764+0.13604736j, 0.00604248+0.13354492j,\n",
       "        0.0072937 +0.13751221j, 0.00500488+0.13671875j,\n",
       "        0.00140381+0.13381958j, 0.00540161+0.13479614j,\n",
       "        0.00558472+0.13305664j, 0.00106812+0.13635254j,\n",
       "        0.00546265+0.13668823j, 0.00512695+0.13354492j,\n",
       "        0.00512695+0.13397217j, 0.00595093+0.13623047j,\n",
       "        0.00299072+0.13827515j, 0.00421143+0.13864136j,\n",
       "        0.0032959 +0.13601685j, 0.00454712+0.13464355j,\n",
       "        0.00494385+0.13916016j, 0.0045166 +0.13589478j,\n",
       "        0.00552368+0.13470459j, 0.00402832+0.1343689j ,\n",
       "        0.00384521+0.13824463j, 0.00390625+0.13787842j,\n",
       "        0.00396729+0.13656616j, 0.00357056+0.13552856j,\n",
       "        0.00561523+0.13409424j, 0.00326538+0.13446045j,\n",
       "        0.00305176+0.13464355j, 0.00646973+0.13400269j,\n",
       "        0.00637817+0.13430786j, 0.00262451+0.13439941j,\n",
       "        0.00714111+0.13461304j, 0.00289917+0.13391113j,\n",
       "        0.00619507+0.13812256j, 0.00396729+0.13430786j,\n",
       "        0.00354004+0.13772583j, 0.00546265+0.1378479j ,\n",
       "        0.00601196+0.13873291j, 0.00460815+0.13739014j,\n",
       "        0.00628662+0.13726807j, 0.00369263+0.13482666j,\n",
       "        0.00524902+0.1350708j , 0.00543213+0.13613892j,\n",
       "        0.0038147 +0.13793945j, 0.00772095+0.13641357j,\n",
       "        0.00421143+0.1373291j , 0.00366211+0.1355896j ,\n",
       "        0.00268555+0.13613892j, 0.00534058+0.13687134j,\n",
       "        0.00735474+0.13543701j, 0.00341797+0.13760376j,\n",
       "        0.00390625+0.13247681j, 0.00753784+0.13653564j,\n",
       "        0.00512695+0.13833618j, 0.00418091+0.13873291j,\n",
       "        0.0071106 +0.13705444j, 0.00552368+0.13876343j,\n",
       "        0.00701904+0.13458252j, 0.00497437+0.13574219j,\n",
       "        0.006073  +0.13668823j, 0.00720215+0.13433838j,\n",
       "        0.00662231+0.13751221j, 0.00592041+0.13858032j,\n",
       "        0.00592041+0.13665771j, 0.00299072+0.13668823j,\n",
       "        0.00714111+0.13586426j, 0.00588989+0.13742065j,\n",
       "        0.00405884+0.13778687j, 0.00311279+0.13781738j,\n",
       "        0.00646973+0.13397217j, 0.00598145+0.13827515j,\n",
       "        0.00311279+0.13790894j, 0.00314331+0.13476562j,\n",
       "        0.00262451+0.13775635j, 0.0062561 +0.13452148j,\n",
       "        0.00549316+0.13781738j, 0.00637817+0.1348877j ,\n",
       "        0.00592041+0.13372803j, 0.00588989+0.1383667j ,\n",
       "        0.00695801+0.13787842j, 0.00552368+0.13702393j,\n",
       "        0.00363159+0.13671875j, 0.00592041+0.13818359j,\n",
       "        0.00448608+0.13754272j, 0.00393677+0.13482666j,\n",
       "        0.00341797+0.13543701j, 0.00442505+0.13531494j,\n",
       "        0.00280762+0.1350708j , 0.00637817+0.13482666j,\n",
       "        0.00436401+0.13494873j, 0.00390625+0.13458252j,\n",
       "        0.00454712+0.13427734j, 0.00177002+0.13394165j,\n",
       "        0.00170898+0.13494873j, 0.00561523+0.13424683j,\n",
       "        0.00445557+0.13452148j, 0.00427246+0.13668823j,\n",
       "        0.00500488+0.13742065j, 0.0039978 +0.13284302j,\n",
       "        0.00540161+0.13748169j, 0.00439453+0.13665771j,\n",
       "        0.00701904+0.13528442j, 0.00595093+0.13510132j,\n",
       "        0.00534058+0.13677979j, 0.0062561 +0.13623047j,\n",
       "        0.00531006+0.13684082j, 0.00692749+0.13803101j,\n",
       "        0.00698853+0.13534546j, 0.00735474+0.13586426j,\n",
       "        0.00613403+0.13812256j, 0.00598145+0.13806152j,\n",
       "        0.00317383+0.13769531j, 0.00357056+0.13446045j,\n",
       "        0.00292969+0.13845825j, 0.00326538+0.13400269j,\n",
       "        0.00692749+0.13778687j, 0.00289917+0.13781738j,\n",
       "        0.00387573+0.13882446j, 0.00338745+0.13809204j,\n",
       "        0.00622559+0.13772583j, 0.00317383+0.13763428j,\n",
       "        0.00430298+0.13882446j, 0.00567627+0.13800049j,\n",
       "        0.00396729+0.13739014j, 0.00588989+0.13897705j,\n",
       "        0.006073  +0.13690186j, 0.00616455+0.13586426j,\n",
       "        0.00540161+0.13708496j, 0.00286865+0.13635254j,\n",
       "        0.00601196+0.13803101j, 0.00637817+0.13821411j,\n",
       "        0.00799561+0.13717651j, 0.00479126+0.13446045j,\n",
       "        0.00421143+0.13534546j, 0.00708008+0.13424683j,\n",
       "        0.00708008+0.1373291j , 0.0067749 +0.13787842j,\n",
       "        0.00622559+0.13272095j, 0.00656128+0.13659668j,\n",
       "        0.00585938+0.13851929j, 0.00598145+0.13793945j,\n",
       "        0.00619507+0.1378479j , 0.00570679+0.13806152j]),\n",
       " array([0.00491333+0.13604736j, 0.00473022+0.13650513j,\n",
       "        0.00512695+0.1362915j , 0.00418091+0.13775635j,\n",
       "        0.00415039+0.1366272j , 0.00430298+0.13656616j,\n",
       "        0.00537109+0.1361084j , 0.00549316+0.13699341j,\n",
       "        0.00436401+0.13745117j, 0.00442505+0.13690186j,\n",
       "        0.00491333+0.13543701j, 0.0043335 +0.13589478j,\n",
       "        0.00442505+0.13653564j, 0.00482178+0.13641357j,\n",
       "        0.00421143+0.13705444j, 0.00418091+0.1362915j ,\n",
       "        0.00418091+0.13708496j, 0.00457764+0.13705444j,\n",
       "        0.00439453+0.13647461j, 0.00500488+0.13671875j,\n",
       "        0.00473022+0.13580322j, 0.00469971+0.13647461j,\n",
       "        0.00387573+0.13641357j, 0.00442505+0.1355896j ,\n",
       "        0.00427246+0.13702393j, 0.00421143+0.13619995j,\n",
       "        0.00488281+0.13632202j, 0.00549316+0.13641357j,\n",
       "        0.00506592+0.13659668j, 0.00531006+0.13650513j,\n",
       "        0.00488281+0.13619995j, 0.00512695+0.13635254j,\n",
       "        0.00488281+0.13604736j, 0.00497437+0.13699341j,\n",
       "        0.0045166 +0.13735962j, 0.0039978 +0.13687134j,\n",
       "        0.00411987+0.13638306j, 0.00500488+0.1368103j ,\n",
       "        0.00445557+0.1368103j , 0.00427246+0.1362915j ,\n",
       "        0.00427246+0.13647461j, 0.00354004+0.13568115j,\n",
       "        0.00485229+0.13540649j, 0.00427246+0.13626099j,\n",
       "        0.00445557+0.13595581j, 0.00491333+0.13647461j,\n",
       "        0.00497437+0.1361084j , 0.00460815+0.13668823j,\n",
       "        0.0043335 +0.13604736j, 0.00485229+0.13528442j,\n",
       "        0.00479126+0.13592529j, 0.00485229+0.13687134j,\n",
       "        0.00473022+0.1362915j , 0.00509644+0.13671875j,\n",
       "        0.00454712+0.1362915j , 0.00506592+0.13598633j,\n",
       "        0.00537109+0.13708496j, 0.00427246+0.13656616j,\n",
       "        0.00473022+0.13735962j, 0.00430298+0.13592529j,\n",
       "        0.00466919+0.13589478j, 0.00485229+0.13665771j,\n",
       "        0.00491333+0.13577271j, 0.00527954+0.13598633j,\n",
       "        0.00439453+0.13650513j, 0.00537109+0.13589478j,\n",
       "        0.00421143+0.13659668j, 0.00442505+0.13726807j,\n",
       "        0.00457764+0.13671875j, 0.00479126+0.13626099j,\n",
       "        0.00445557+0.13647461j, 0.00552368+0.13589478j,\n",
       "        0.00466919+0.1373291j , 0.00491333+0.13641357j,\n",
       "        0.00537109+0.13571167j, 0.00463867+0.13702393j,\n",
       "        0.00543213+0.13598633j, 0.00524902+0.13708496j,\n",
       "        0.00582886+0.13619995j, 0.00488281+0.13693237j,\n",
       "        0.00448608+0.13562012j, 0.00494385+0.13546753j,\n",
       "        0.00576782+0.13690186j, 0.00436401+0.13619995j,\n",
       "        0.00531006+0.13690186j, 0.00448608+0.13574219j,\n",
       "        0.00457764+0.13644409j, 0.0045166 +0.13708496j,\n",
       "        0.00448608+0.13674927j, 0.00488281+0.13641357j,\n",
       "        0.00476074+0.13543701j, 0.0038147 +0.13613892j,\n",
       "        0.0050354 +0.13583374j, 0.00497437+0.13552856j,\n",
       "        0.00442505+0.13613892j, 0.00552368+0.13549805j,\n",
       "        0.00491333+0.13604736j, 0.00473022+0.13650513j,\n",
       "        0.00512695+0.1362915j , 0.00418091+0.13775635j,\n",
       "        0.00415039+0.1366272j , 0.00430298+0.13656616j,\n",
       "        0.00537109+0.1361084j , 0.00549316+0.13699341j,\n",
       "        0.00436401+0.13745117j, 0.00442505+0.13623047j,\n",
       "        0.00491333+0.1368103j , 0.0043335 +0.13641357j,\n",
       "        0.00442505+0.13726807j, 0.00482178+0.13751221j,\n",
       "        0.00421143+0.13638306j, 0.00418091+0.13705444j,\n",
       "        0.00418091+0.13601685j, 0.00457764+0.13616943j,\n",
       "        0.00439453+0.13693237j, 0.00500488+0.1366272j ,\n",
       "        0.00473022+0.13580322j, 0.00469971+0.13647461j,\n",
       "        0.00387573+0.13641357j, 0.00442505+0.1355896j ,\n",
       "        0.00427246+0.13702393j, 0.00421143+0.13619995j,\n",
       "        0.00488281+0.13632202j, 0.00549316+0.13641357j,\n",
       "        0.00506592+0.13659668j, 0.00531006+0.13650513j,\n",
       "        0.00488281+0.13619995j, 0.00512695+0.13635254j,\n",
       "        0.00488281+0.13604736j, 0.00497437+0.13699341j,\n",
       "        0.0045166 +0.13735962j, 0.0039978 +0.13687134j,\n",
       "        0.00411987+0.13638306j, 0.00500488+0.1368103j ,\n",
       "        0.00445557+0.1368103j , 0.00427246+0.1362915j ,\n",
       "        0.00427246+0.13647461j, 0.00354004+0.13568115j,\n",
       "        0.00485229+0.13540649j, 0.00427246+0.13626099j,\n",
       "        0.00445557+0.13595581j, 0.00491333+0.13647461j,\n",
       "        0.00473022+0.1361084j , 0.00421143+0.13668823j,\n",
       "        0.00448608+0.13604736j, 0.00463867+0.13528442j,\n",
       "        0.00366211+0.13592529j, 0.00427246+0.13687134j,\n",
       "        0.00408936+0.1362915j , 0.00537109+0.13671875j,\n",
       "        0.00482178+0.1362915j , 0.00509644+0.13598633j,\n",
       "        0.00537109+0.13708496j, 0.00427246+0.13656616j,\n",
       "        0.00473022+0.13735962j, 0.00430298+0.13592529j,\n",
       "        0.00466919+0.13589478j, 0.00485229+0.13665771j,\n",
       "        0.00491333+0.13577271j, 0.00527954+0.13598633j,\n",
       "        0.00439453+0.13650513j, 0.00537109+0.13589478j,\n",
       "        0.00421143+0.13659668j, 0.00442505+0.13726807j,\n",
       "        0.00457764+0.13671875j, 0.00479126+0.13626099j,\n",
       "        0.00445557+0.13647461j, 0.00552368+0.13589478j,\n",
       "        0.00466919+0.1373291j , 0.00491333+0.13641357j,\n",
       "        0.00537109+0.13571167j, 0.00463867+0.13702393j,\n",
       "        0.00543213+0.13598633j, 0.00524902+0.13708496j,\n",
       "        0.00582886+0.13619995j, 0.00488281+0.13693237j,\n",
       "        0.00448608+0.13562012j, 0.00494385+0.13546753j,\n",
       "        0.00576782+0.13690186j, 0.00436401+0.13619995j,\n",
       "        0.00531006+0.13690186j, 0.00448608+0.13574219j,\n",
       "        0.00457764+0.13644409j, 0.0045166 +0.13708496j,\n",
       "        0.00448608+0.13674927j, 0.00488281+0.13641357j,\n",
       "        0.00476074+0.13543701j, 0.0038147 +0.13613892j,\n",
       "        0.0050354 +0.13583374j, 0.00497437+0.13552856j,\n",
       "        0.00442505+0.13613892j, 0.00552368+0.13549805j,\n",
       "        0.00491333+0.13604736j, 0.00473022+0.13650513j,\n",
       "        0.00512695+0.1362915j , 0.00418091+0.13775635j,\n",
       "        0.00415039+0.1366272j , 0.00430298+0.13656616j,\n",
       "        0.00537109+0.1361084j , 0.00549316+0.13699341j,\n",
       "        0.00436401+0.13745117j, 0.00442505+0.13623047j,\n",
       "        0.00491333+0.1368103j , 0.0043335 +0.13641357j,\n",
       "        0.00442505+0.13726807j, 0.00482178+0.13751221j,\n",
       "        0.00421143+0.13638306j, 0.00418091+0.13705444j,\n",
       "        0.00418091+0.13601685j, 0.00457764+0.13616943j,\n",
       "        0.00439453+0.13693237j, 0.00500488+0.1366272j ,\n",
       "        0.00473022+0.1368103j , 0.00469971+0.13693237j,\n",
       "        0.00387573+0.13549805j, 0.00442505+0.13595581j,\n",
       "        0.00427246+0.13623047j, 0.00421143+0.13613892j,\n",
       "        0.00488281+0.13644409j, 0.00549316+0.13589478j,\n",
       "        0.00506592+0.13586426j, 0.00531006+0.13638306j,\n",
       "        0.00488281+0.13653564j, 0.00512695+0.13635254j,\n",
       "        0.00488281+0.13604736j, 0.00497437+0.13699341j,\n",
       "        0.0045166 +0.13735962j, 0.0039978 +0.13687134j,\n",
       "        0.00411987+0.13638306j, 0.00500488+0.1368103j ,\n",
       "        0.00445557+0.1368103j , 0.00427246+0.1362915j ,\n",
       "        0.00427246+0.13647461j, 0.00354004+0.13568115j,\n",
       "        0.00485229+0.13540649j, 0.00427246+0.13626099j,\n",
       "        0.00445557+0.13595581j, 0.00491333+0.13647461j,\n",
       "        0.00473022+0.1361084j , 0.00421143+0.13668823j,\n",
       "        0.00448608+0.13604736j, 0.00463867+0.13528442j,\n",
       "        0.00366211+0.13592529j, 0.00427246+0.13687134j,\n",
       "        0.00408936+0.1362915j , 0.00537109+0.13671875j,\n",
       "        0.00482178+0.1362915j , 0.00509644+0.13598633j,\n",
       "        0.00436401+0.13708496j, 0.00482178+0.13656616j,\n",
       "        0.00405884+0.13735962j, 0.00430298+0.13592529j,\n",
       "        0.00479126+0.13589478j, 0.00497437+0.13665771j,\n",
       "        0.00445557+0.13577271j, 0.00567627+0.13598633j])]"
      ]
     },
     "execution_count": 72,
     "metadata": {},
     "output_type": "execute_result"
    }
   ],
   "source": [
    "myarray"
   ]
  },
  {
   "cell_type": "markdown",
   "metadata": {},
   "source": [
    "Now that we have complex channel data in Jupyter, we can import plotly, numpy,\n",
    "and ipwidgets to enable data visualization."
   ]
  },
  {
   "cell_type": "code",
   "execution_count": 11,
   "metadata": {},
   "outputs": [],
   "source": [
    "import plotly.graph_objs as go\n",
    "from plotly.subplots import make_subplots\n",
    "import numpy as np\n",
    "import ipywidgets as ipw"
   ]
  },
  {
   "cell_type": "markdown",
   "metadata": {},
   "source": [
    "The data can be plotted using `go.Scatter` and `go.FigureWidget` for each channel. Ipywidgets allows each figure to be displayed at the same time.\n",
    "\n",
    "Note that, if you followed the hardware setup above, there will only be signals present in ADCs A and B (channels 2 and 3). The other 2 channels will only have a low amplitude noise present. "
   ]
  },
  {
   "cell_type": "code",
   "execution_count": 12,
   "metadata": {
    "collapsed": true,
    "jupyter": {
     "outputs_hidden": true
    },
    "tags": []
   },
   "outputs": [
    {
     "data": {
      "application/vnd.jupyter.widget-view+json": {
       "model_id": "5046fc6456f34febbca59e1da8002c69",
       "version_major": 2,
       "version_minor": 0
      },
      "text/plain": [
       "VBox(children=(FigureWidget({\n",
       "    'data': [{'name': 'Real',\n",
       "              'type': 'scatter',\n",
       "              'ui…"
      ]
     },
     "metadata": {},
     "output_type": "display_data"
    }
   ],
   "source": [
    "sample_frequency = 2457.6e6\n",
    "figs = []\n",
    "\n",
    "for i in range(0, len(base.radio.receiver.channel)):\n",
    "    plt_re_temp = (go.Scatter(\n",
    "            x = np.arange(0, number_samples/sample_frequency, \n",
    "                          1/sample_frequency),\n",
    "            y = np.real(cdata[i]), name='Real'))\n",
    "    plt_im_temp = (go.Scatter(\n",
    "            x = np.arange(0, number_samples/sample_frequency, \n",
    "                          1/sample_frequency),\n",
    "            y = np.imag(cdata[i]), name='Imag'))\n",
    "    figs.append(go.FigureWidget(data = [plt_re_temp, plt_im_temp],\n",
    "            layout = {'title': ''.join(['Time Domain Plot of ADC Channel ', \n",
    "                                         str(i)]), \n",
    "                      'xaxis': {'title' : 'Seconds (s)',\n",
    "                                'autorange' : True},\n",
    "                      'yaxis' : {'title' : 'Amplitude (V)'}}))\n",
    "    \n",
    "ipw.VBox(figs)"
   ]
  },
  {
   "cell_type": "code",
   "execution_count": 80,
   "metadata": {},
   "outputs": [
    {
     "data": {
      "application/vnd.jupyter.widget-view+json": {
       "model_id": "81bbdd324a7741c2a00b19136e6abaeb",
       "version_major": 2,
       "version_minor": 0
      },
      "text/plain": [
       "VBox(children=(FigureWidget({\n",
       "    'data': [{'name': 'Real',\n",
       "              'type': 'scatter',\n",
       "              'ui…"
      ]
     },
     "metadata": {},
     "output_type": "display_data"
    }
   ],
   "source": [
    "myfigs = []\n",
    "\n",
    "for i in range(0, len(myarray)):\n",
    "    myplt_re_temp = (go.Scatter(\n",
    "            x = np.arange(0, number_samples/sample_frequency, \n",
    "                          1/sample_frequency),\n",
    "            y = np.real(myarray[i]), name='Real'))\n",
    "    myplt_im_temp = (go.Scatter(\n",
    "            x = np.arange(0, number_samples/sample_frequency, \n",
    "                          1/sample_frequency),\n",
    "            y = np.imag(myarray[i]), name='Imag'))\n",
    "    myfigs.append(go.FigureWidget(data = [myplt_re_temp, myplt_im_temp],\n",
    "            layout = {'title': ''.join(['Time Domain Plot of ADC Channel 3 Decimation step ', \n",
    "                                         str(i)]), \n",
    "                      'xaxis': {'title' : 'Seconds (s)',\n",
    "                                'autorange' : True},\n",
    "                      'yaxis' : {'title' : 'Amplitude (V)'}}))\n",
    "    \n",
    "ipw.VBox(myfigs)"
   ]
  },
  {
   "cell_type": "markdown",
   "metadata": {},
   "source": [
    "You can return to the [RF Data Inspection](#rf-data-inspection) section and try different mixer frequencies or different amplitudes. You can try connecting the DACs to the other 2 ADC channels as well."
   ]
  },
  {
   "cell_type": "markdown",
   "metadata": {},
   "source": [
    "## Conclusion <a class=\"anchor\" id=\"conclusion\"></a>\n",
    "\n",
    "This notebook has presented a simple introduction to the RF Data Converters. \n",
    "The RF DCs were briefly described and a radio hierarchy in the PL was explored.\n",
    "RF data visualization was performed using `plotly`, `ipywidgets`, and `numpy` in Jupyter.\n",
    "\n",
    "| | [RF Spectrum Analysis ➡️](02_rf_spectrum_analysis.ipynb)"
   ]
  },
  {
   "cell_type": "markdown",
   "metadata": {},
   "source": [
    "---\n",
    "Copyright (C) 2022 Xilinx, Inc\n",
    "\n",
    "SPDX-License-Identifier: BSD-3-Clause\n",
    "\n",
    "----\n",
    "\n",
    "----"
   ]
  }
 ],
 "metadata": {
  "kernelspec": {
   "display_name": "Python 3 (ipykernel)",
   "language": "python",
   "name": "python3"
  },
  "language_info": {
   "codemirror_mode": {
    "name": "ipython",
    "version": 3
   },
   "file_extension": ".py",
   "mimetype": "text/x-python",
   "name": "python",
   "nbconvert_exporter": "python",
   "pygments_lexer": "ipython3",
   "version": "3.10.4"
  },
  "widgets": {
   "application/vnd.jupyter.widget-state+json": {
    "state": {},
    "version_major": 2,
    "version_minor": 0
   }
  }
 },
 "nbformat": 4,
 "nbformat_minor": 4
}
