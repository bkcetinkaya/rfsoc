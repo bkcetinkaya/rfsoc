{
 "cells": [
  {
   "cell_type": "code",
   "execution_count": 1,
   "id": "3cfc29d5-6e47-4fff-be26-39a1807a5763",
   "metadata": {},
   "outputs": [
    {
     "data": {
      "application/javascript": [
       "\n",
       "try {\n",
       "require(['notebook/js/codecell'], function(codecell) {\n",
       "  codecell.CodeCell.options_default.highlight_modes[\n",
       "      'magic_text/x-csrc'] = {'reg':[/^%%microblaze/]};\n",
       "  Jupyter.notebook.events.one('kernel_ready.Kernel', function(){\n",
       "      Jupyter.notebook.get_cells().map(function(cell){\n",
       "          if (cell.cell_type == 'code'){ cell.auto_highlight(); } }) ;\n",
       "  });\n",
       "});\n",
       "} catch (e) {};\n"
      ]
     },
     "metadata": {},
     "output_type": "display_data"
    },
    {
     "data": {
      "application/javascript": [
       "\n",
       "try {\n",
       "require(['notebook/js/codecell'], function(codecell) {\n",
       "  codecell.CodeCell.options_default.highlight_modes[\n",
       "      'magic_text/x-csrc'] = {'reg':[/^%%pybind11/]};\n",
       "  Jupyter.notebook.events.one('kernel_ready.Kernel', function(){\n",
       "      Jupyter.notebook.get_cells().map(function(cell){\n",
       "          if (cell.cell_type == 'code'){ cell.auto_highlight(); } }) ;\n",
       "  });\n",
       "});\n",
       "} catch (e) {};\n"
      ]
     },
     "metadata": {},
     "output_type": "display_data"
    }
   ],
   "source": [
    "from pynq.overlays.base import BaseOverlay\n",
    "\n",
    "base = BaseOverlay('base.bit')\n",
    "\n",
    "base.init_rf_clks()"
   ]
  },
  {
   "cell_type": "code",
   "execution_count": 48,
   "id": "46283ae6-9a68-49cb-b173-884907d93433",
   "metadata": {},
   "outputs": [],
   "source": [
    "def set_transmitter_channel(channel, enable, gain, frequency, phaseOff):\n",
    "    channel.control.enable = enable\n",
    "    channel.control.gain = gain\n",
    "    channel.dac_block.MixerSettings['Freq'] = frequency\n",
    "    channel.dac_block.MixerSettings['PhaseOffset'] = phaseOff\n",
    "\n",
    "set_transmitter_channel(base.radio.transmitter.channel[0], True, 1, 433, 90)\n",
    "set_transmitter_channel(base.radio.transmitter.channel[1], True, 1, 433, 0)"
   ]
  },
  {
   "cell_type": "code",
   "execution_count": 49,
   "id": "529d5834-c36e-43dd-8628-f1506058929c",
   "metadata": {},
   "outputs": [],
   "source": [
    "number_samples = 1229\n",
    "sample_frequency = 2458e6\n",
    "cdata = []\n",
    "for i in range(0, len(base.radio.receiver.channel)):\n",
    "    cdata.append(base.radio.receiver.channel[i].transfer(number_samples))"
   ]
  },
  {
   "cell_type": "code",
   "execution_count": 50,
   "id": "e7e42e17-81b1-488a-80a0-da9552ae5684",
   "metadata": {},
   "outputs": [
    {
     "data": {
      "application/vnd.jupyter.widget-view+json": {
       "model_id": "010a2adc41cd4e3a8bad541c390994d7",
       "version_major": 2,
       "version_minor": 0
      },
      "text/plain": [
       "VBox(children=(FigureWidget({\n",
       "    'data': [{'name': 'Real',\n",
       "              'type': 'scatter',\n",
       "              'ui…"
      ]
     },
     "metadata": {},
     "output_type": "display_data"
    }
   ],
   "source": [
    "import plotly.graph_objs as go\n",
    "import numpy as np\n",
    "import ipywidgets as ipw\n",
    "\n",
    "def plot_complex_time(data, n=number_samples, fs=sample_frequency, \n",
    "                      title='Complex Time Plot'):\n",
    "    plt_re_temp = (go.Scatter(x = np.arange(0, n/fs, 1/fs),\n",
    "                              y = np.real(data), name='Real'))\n",
    "    plt_im_temp = (go.Scatter(x = np.arange(0, n/fs, 1/fs),\n",
    "                              y = np.imag(data), name='Imag'))\n",
    "    return go.FigureWidget(data = [plt_re_temp, plt_im_temp],\n",
    "                           layout = {'title': title, \n",
    "                                     'xaxis': {\n",
    "                                         'title': 'Seconds (s)',\n",
    "                                         'autorange' : True},\n",
    "                                     'yaxis': {\n",
    "                                         'title': 'Amplitude (V)'}})\n",
    "\n",
    "tfigs = []\n",
    "for i in range(2, len(base.radio.receiver.channel)):\n",
    "    tfigs.append(plot_complex_time(\n",
    "            data=cdata[i], \n",
    "            title=''.join(['Time Domain Plot of ADC Channel ', str(i)])))\n",
    "\n",
    "ipw.VBox(tfigs)"
   ]
  },
  {
   "cell_type": "code",
   "execution_count": 53,
   "id": "84648bdc-a9c8-400c-bbe2-cd1693484083",
   "metadata": {},
   "outputs": [
    {
     "data": {
      "application/vnd.jupyter.widget-view+json": {
       "model_id": "1ec57b231dd94af58733e284340d612a",
       "version_major": 2,
       "version_minor": 0
      },
      "text/plain": [
       "VBox(children=(FigureWidget({\n",
       "    'data': [{'name': 'Real',\n",
       "              'type': 'scatter',\n",
       "              'ui…"
      ]
     },
     "metadata": {},
     "output_type": "display_data"
    }
   ],
   "source": [
    "window = np.array(np.blackman(number_samples)[:])\n",
    "wdata = []\n",
    "wfigs = []\n",
    "\n",
    "for i in range(2, len(base.radio.receiver.channel)):\n",
    "    wdata.append(cdata[i]*window)\n",
    "    wfigs.append(plot_complex_time(\n",
    "            data=wdata[i-2], \n",
    "            title=''.join(['Windowed Plot of ADC Channel ', str(i)])))\n",
    "\n",
    "ipw.VBox(wfigs)"
   ]
  },
  {
   "cell_type": "code",
   "execution_count": null,
   "id": "a7f7bb49-008b-4ce5-92ed-001adc8b088a",
   "metadata": {},
   "outputs": [],
   "source": [
    "fdata = []\n",
    "for i in range(0, len(wdata)):\n",
    "    fdata.append(np.fft.fftshift(np.fft.fft(wdata[i])))"
   ]
  },
  {
   "cell_type": "code",
   "execution_count": 47,
   "id": "a2fdd80f-c91a-400e-9107-361621eaf749",
   "metadata": {},
   "outputs": [
    {
     "data": {
      "application/vnd.jupyter.widget-view+json": {
       "model_id": "49335f16642742ea8f18f4284341c12c",
       "version_major": 2,
       "version_minor": 0
      },
      "text/plain": [
       "VBox(children=(FigureWidget({\n",
       "    'data': [{'name': 'Spectrum',\n",
       "              'type': 'scatter',\n",
       "             …"
      ]
     },
     "metadata": {},
     "output_type": "display_data"
    }
   ],
   "source": [
    "def plot_complex_spectrum(data, N=number_samples, fs=sample_frequency, \n",
    "                          title='Complex Spectrum Plot', units='dBW', fc=0):\n",
    "    plt_temp = (go.Scatter(x = np.arange(-fs/2, fs/2, fs/N) + fc,\n",
    "                           y = data, name='Spectrum'))\n",
    "    return go.FigureWidget(data = plt_temp,\n",
    "                           layout = {'title': title, \n",
    "                                     'xaxis': {\n",
    "                                         'title': 'Frequency (Hz)',\n",
    "                                         'autorange': True},\n",
    "                                     'yaxis': {\n",
    "                                         'title': units}})\n",
    "\n",
    "magfigs = []\n",
    "for i in range(0, len(fdata)):\n",
    "    magfigs.append(plot_complex_spectrum(\n",
    "            data=abs(fdata[i]),\n",
    "            title=''.join(['Frequency Magnitude Plot of ADC Channel ', str(i+2)]),\n",
    "            units='|Y(f)|',\n",
    "            fc=round(abs(base.radio.receiver.channel[i].adc_block.MixerSettings['Freq']))*1e6))\n",
    "\n",
    "ipw.VBox(magfigs)"
   ]
  },
  {
   "cell_type": "code",
   "execution_count": 40,
   "id": "ac4de2d7-2f5a-49af-9fdd-aed09a1cccbf",
   "metadata": {},
   "outputs": [],
   "source": [
    "def freq_to_psd(data, N=number_samples, fs=sample_frequency, \n",
    "                window=np.array(np.ones(number_samples)[:])):\n",
    "    psd = (abs(data)**2)/(fs*np.sum(window**2))\n",
    "    return 10*np.where(psd > 0, np.log10(psd), 0)\n",
    "\n",
    "psd = []\n",
    "for i in range(0, len(fdata)):\n",
    "    psd.append(freq_to_psd(data=fdata[i], window=window))"
   ]
  },
  {
   "cell_type": "code",
   "execution_count": 41,
   "id": "39ea7616-b31e-4e64-8a2f-818155e99a79",
   "metadata": {},
   "outputs": [
    {
     "data": {
      "application/vnd.jupyter.widget-view+json": {
       "model_id": "eb8bb33b81614b22a6f91d257eac30de",
       "version_major": 2,
       "version_minor": 0
      },
      "text/plain": [
       "VBox(children=(FigureWidget({\n",
       "    'data': [{'name': 'Spectrum',\n",
       "              'type': 'scatter',\n",
       "             …"
      ]
     },
     "metadata": {},
     "output_type": "display_data"
    }
   ],
   "source": [
    "psdfigs = []\n",
    "for i in range(0, len(psd)):\n",
    "    psdfigs.append(plot_complex_spectrum(\n",
    "            data=psd[i],\n",
    "            title=''.join(['Power Spectral Density Plot of ADC Channel ',\n",
    "                           str(i+2)]),\n",
    "            units='Amplitude (dB)',\n",
    "            fc=round(abs(base.radio.receiver.channel[\n",
    "                        i].adc_block.MixerSettings['Freq']))*1e6))\n",
    "\n",
    "ipw.VBox(psdfigs)"
   ]
  },
  {
   "cell_type": "code",
   "execution_count": null,
   "id": "09e6fa2c-8bd6-4c28-b8be-bd26dcd0fdf4",
   "metadata": {},
   "outputs": [],
   "source": []
  }
 ],
 "metadata": {
  "kernelspec": {
   "display_name": "Python 3 (ipykernel)",
   "language": "python",
   "name": "python3"
  },
  "language_info": {
   "codemirror_mode": {
    "name": "ipython",
    "version": 3
   },
   "file_extension": ".py",
   "mimetype": "text/x-python",
   "name": "python",
   "nbconvert_exporter": "python",
   "pygments_lexer": "ipython3",
   "version": "3.10.4"
  }
 },
 "nbformat": 4,
 "nbformat_minor": 5
}
